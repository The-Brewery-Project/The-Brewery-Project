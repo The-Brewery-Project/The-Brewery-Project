{
 "cells": [
  {
   "cell_type": "markdown",
   "id": "674e133b",
   "metadata": {},
   "source": [
    "# Top Colleges Exploration\n",
    "\n",
    "The goal of this is to scrape the top 150 college towns according to the article [The 150 Best College Towns in America (2021 Ranking)](https://listwithclever.com/research/best-college-towns-2021/).\n",
    "\n",
    "The article provides a table giving **Ranking**, **City (city, state)**, and **Colleges** associated with the city."
   ]
  },
  {
   "cell_type": "markdown",
   "id": "c740b7ae",
   "metadata": {},
   "source": [
    "## Scraping the Data"
   ]
  },
  {
   "cell_type": "code",
   "execution_count": 1,
   "id": "729281cf",
   "metadata": {},
   "outputs": [],
   "source": [
    "# import libraries\n",
    "import requests\n",
    "from bs4 import BeautifulSoup\n",
    "import numpy as np\n",
    "import pandas as pd"
   ]
  },
  {
   "cell_type": "code",
   "execution_count": 2,
   "id": "63577647",
   "metadata": {},
   "outputs": [],
   "source": [
    "# scraping information\n",
    "url = 'https://listwithclever.com/research/best-college-towns-2021/'\n",
    "url_headers = {'User-Agent': 'Mozilla/5.0 (Macintosh; Intel Mac OS X 10_11_5) AppleWebKit/537.36 (KHTML, like Gecko) Chrome/50.0.2661.102 Safari/537.36'}\n",
    "# response of 403 without headers, 200 with\n",
    "page = requests.get(url, headers=url_headers)\n",
    "soup = BeautifulSoup(page.text, 'lxml')"
   ]
  },
  {
   "cell_type": "code",
   "execution_count": 3,
   "id": "33c168ac",
   "metadata": {},
   "outputs": [],
   "source": [
    "# get table featuring the top 150\n",
    "college_table = soup.find('div', class_ = 'clever-table border-top border-bot col-1-center col-2-left col-3-left')"
   ]
  },
  {
   "cell_type": "code",
   "execution_count": 4,
   "id": "0326e1e2",
   "metadata": {},
   "outputs": [],
   "source": [
    "# identify table rows\n",
    "college_rows = college_table.find_all('tr')"
   ]
  },
  {
   "cell_type": "code",
   "execution_count": 5,
   "id": "50631a03",
   "metadata": {},
   "outputs": [],
   "source": [
    "# header has table header 'th' breaks\n",
    "# data rows have columnn 'td' breaks\n",
    "\n",
    "# header row\n",
    "col_headers = [header.text for header in college_rows[0].find_all('th')]\n",
    "\n",
    "# data rows\n",
    "top_colleges_dict = {'ranking': [], 'city': [], 'colleges': []}\n",
    "for row in college_rows:\n",
    "    ranked_row = row.find_all('td')\n",
    "    if len(ranked_row) == 3:\n",
    "        top_colleges_dict['ranking'].append(ranked_row[0].text)\n",
    "        top_colleges_dict['city'].append(ranked_row[1].text)\n",
    "        top_colleges_dict['colleges'].append(ranked_row[2].text)"
   ]
  },
  {
   "cell_type": "code",
   "execution_count": 6,
   "id": "4630d306",
   "metadata": {},
   "outputs": [],
   "source": [
    "# put data into pandas dataframe\n",
    "colleges_df = pd.DataFrame(top_colleges_dict)"
   ]
  },
  {
   "cell_type": "code",
   "execution_count": 8,
   "id": "465c9aa4",
   "metadata": {
    "scrolled": true
   },
   "outputs": [
    {
     "data": {
      "text/html": [
       "<div>\n",
       "<style scoped>\n",
       "    .dataframe tbody tr th:only-of-type {\n",
       "        vertical-align: middle;\n",
       "    }\n",
       "\n",
       "    .dataframe tbody tr th {\n",
       "        vertical-align: top;\n",
       "    }\n",
       "\n",
       "    .dataframe thead th {\n",
       "        text-align: right;\n",
       "    }\n",
       "</style>\n",
       "<table border=\"1\" class=\"dataframe\">\n",
       "  <thead>\n",
       "    <tr style=\"text-align: right;\">\n",
       "      <th></th>\n",
       "      <th>ranking</th>\n",
       "      <th>city</th>\n",
       "      <th>colleges</th>\n",
       "    </tr>\n",
       "  </thead>\n",
       "  <tbody>\n",
       "    <tr>\n",
       "      <th>0</th>\n",
       "      <td>1</td>\n",
       "      <td>Stanford, Calif.</td>\n",
       "      <td>Stanford University</td>\n",
       "    </tr>\n",
       "    <tr>\n",
       "      <th>1</th>\n",
       "      <td>2</td>\n",
       "      <td>Williamsburg, Va.</td>\n",
       "      <td>William &amp; Mary</td>\n",
       "    </tr>\n",
       "    <tr>\n",
       "      <th>2</th>\n",
       "      <td>3</td>\n",
       "      <td>Pasadena, Calif.</td>\n",
       "      <td>California Institute of Technology</td>\n",
       "    </tr>\n",
       "    <tr>\n",
       "      <th>3</th>\n",
       "      <td>4</td>\n",
       "      <td>Princeton, N.J.</td>\n",
       "      <td>Princeton University</td>\n",
       "    </tr>\n",
       "    <tr>\n",
       "      <th>4</th>\n",
       "      <td>5</td>\n",
       "      <td>Charlottesville, Va.</td>\n",
       "      <td>University of Virginia</td>\n",
       "    </tr>\n",
       "    <tr>\n",
       "      <th>5</th>\n",
       "      <td>6</td>\n",
       "      <td>Ann Arbor, Mich.</td>\n",
       "      <td>University of Michigan-Ann Arbor</td>\n",
       "    </tr>\n",
       "    <tr>\n",
       "      <th>6</th>\n",
       "      <td>7</td>\n",
       "      <td>Cambridge, Mass.</td>\n",
       "      <td>Harvard University, Massachusetts Institute of...</td>\n",
       "    </tr>\n",
       "    <tr>\n",
       "      <th>7</th>\n",
       "      <td>8</td>\n",
       "      <td>Berkeley, Calif.</td>\n",
       "      <td>University of California-Berkeley</td>\n",
       "    </tr>\n",
       "    <tr>\n",
       "      <th>8</th>\n",
       "      <td>9</td>\n",
       "      <td>Champaign, Ill.</td>\n",
       "      <td>University of Illinois Urbana-Champaign</td>\n",
       "    </tr>\n",
       "    <tr>\n",
       "      <th>9</th>\n",
       "      <td>10</td>\n",
       "      <td>Gainesville, Fla.</td>\n",
       "      <td>University of Florida, Santa Fe College</td>\n",
       "    </tr>\n",
       "  </tbody>\n",
       "</table>\n",
       "</div>"
      ],
      "text/plain": [
       "  ranking                  city  \\\n",
       "0       1      Stanford, Calif.   \n",
       "1       2     Williamsburg, Va.   \n",
       "2       3      Pasadena, Calif.   \n",
       "3       4       Princeton, N.J.   \n",
       "4       5  Charlottesville, Va.   \n",
       "5       6      Ann Arbor, Mich.   \n",
       "6       7      Cambridge, Mass.   \n",
       "7       8      Berkeley, Calif.   \n",
       "8       9       Champaign, Ill.   \n",
       "9      10     Gainesville, Fla.   \n",
       "\n",
       "                                            colleges  \n",
       "0                                Stanford University  \n",
       "1                                     William & Mary  \n",
       "2                 California Institute of Technology  \n",
       "3                               Princeton University  \n",
       "4                             University of Virginia  \n",
       "5                   University of Michigan-Ann Arbor  \n",
       "6  Harvard University, Massachusetts Institute of...  \n",
       "7                  University of California-Berkeley  \n",
       "8            University of Illinois Urbana-Champaign  \n",
       "9            University of Florida, Santa Fe College  "
      ]
     },
     "execution_count": 8,
     "metadata": {},
     "output_type": "execute_result"
    }
   ],
   "source": [
    "# before\n",
    "colleges_df.head(10)"
   ]
  },
  {
   "cell_type": "markdown",
   "id": "9f789c19",
   "metadata": {},
   "source": [
    "## Cleaning the Data"
   ]
  },
  {
   "cell_type": "code",
   "execution_count": 9,
   "id": "4e21fb31",
   "metadata": {},
   "outputs": [
    {
     "name": "stderr",
     "output_type": "stream",
     "text": [
      "C:\\Users\\carlj\\AppData\\Local\\Temp\\ipykernel_30764\\1185687717.py:14: FutureWarning: The default value of regex will change from True to False in a future version. In addition, single character regular expressions will *not* be treated as literal strings when regex=True.\n",
      "  colleges_df['state'] = colleges_df['state'].str.replace('.', '')\n"
     ]
    }
   ],
   "source": [
    "# split city and state\n",
    "colleges_df[['city', 'state']] = colleges_df['city'].str.split(', ', expand=True)\n",
    "\n",
    "# rearrange order\n",
    "colleges_df = colleges_df[['city', 'state', 'colleges']]\n",
    "\n",
    "# lowercase city. state. and colleges\n",
    "colleges_df['city'] = colleges_df['city'].str.lower()\n",
    "colleges_df['state'] = colleges_df['state'].str.lower()\n",
    "colleges_df['colleges'] = colleges_df['colleges'].str.lower()\n",
    "\n",
    "# unabbreviate state process\n",
    "# remove punctuation\n",
    "colleges_df['state'] = colleges_df['state'].str.replace('.', '')"
   ]
  },
  {
   "cell_type": "code",
   "execution_count": 10,
   "id": "6eabe9ba",
   "metadata": {},
   "outputs": [
    {
     "data": {
      "text/plain": [
       "44"
      ]
     },
     "execution_count": 10,
     "metadata": {},
     "output_type": "execute_result"
    }
   ],
   "source": [
    "# get a look at the values - number of unique states\n",
    "colleges_df['state'].nunique()"
   ]
  },
  {
   "cell_type": "code",
   "execution_count": 11,
   "id": "70864a9a",
   "metadata": {},
   "outputs": [
    {
     "data": {
      "text/plain": [
       "calif    15\n",
       "nc        9\n",
       "wis       8\n",
       "ny        7\n",
       "pa        7\n",
       "texas     6\n",
       "mich      6\n",
       "va        6\n",
       "wash      5\n",
       "tenn      4\n",
       "colo      4\n",
       "mo        4\n",
       "ind       4\n",
       "ill       4\n",
       "miss      3\n",
       "wva       3\n",
       "ohio      3\n",
       "iowa      3\n",
       "nj        3\n",
       "md        3\n",
       "mass      3\n",
       "ariz      3\n",
       "la        3\n",
       "sc        3\n",
       "mont      2\n",
       "kan       2\n",
       "conn      2\n",
       "ala       2\n",
       "ky        2\n",
       "minn      2\n",
       "utah      2\n",
       "okla      2\n",
       "fla       2\n",
       "ore       2\n",
       "ga        2\n",
       "ark       1\n",
       "wyo       1\n",
       "nm        1\n",
       "del       1\n",
       "nev       1\n",
       "ri        1\n",
       "maine     1\n",
       "vt        1\n",
       "idaho     1\n",
       "Name: state, dtype: int64"
      ]
     },
     "execution_count": 11,
     "metadata": {},
     "output_type": "execute_result"
    }
   ],
   "source": [
    "# get a look at the values - states and state counts\n",
    "colleges_df['state'].value_counts()"
   ]
  },
  {
   "cell_type": "code",
   "execution_count": 12,
   "id": "83ad0c74",
   "metadata": {},
   "outputs": [],
   "source": [
    "# create a dictionary to turn \"abbreviated\" states to their respective full names\n",
    "# abbreviated states\n",
    "abbreviated = ['calif','va','nj','mich','mass','ill','fla','ind','wva','nc','pa',\n",
    "               'miss','texas','colo','ny','ga','ore','iowa','del','wis','md','okla',\n",
    "               'mo','utah','minn','ariz','la','sc','ky','wash','ark','ala','wyo',\n",
    "               'conn','kan','nm','tenn','ohio','mont','nev','ri','maine','vt','idaho']\n",
    "\n",
    "# full states\n",
    "full = ['california','virginia','new jersey','michigan','massachusetts','illinois',\n",
    "        'florida','indiana','west virginia','north carolina','pennsylvania',\n",
    "        'mississippi','texas','colorado','new york','georgia','oregon','iowa',\n",
    "        'delaware','wisconsin','maryland','oklahoma','missouri','utah','minnesota',\n",
    "        'arizona','louisiana','south carolina','kentucky','washington','arkansas',\n",
    "        'alabama','wyoming','connecticut','kansas','new mexico','tennessee','ohio',\n",
    "        'montana','nevada','rhode island','maine','vermont','idaho']\n",
    "\n",
    "# dictionary to switch between abbreviation to full state names\n",
    "# table article used non-standard abbreviations, so needed a custom dictionary\n",
    "abbreviated_states_custom = {abbr_st: full_st for abbr_st, full_st in zip(abbreviated, full)}"
   ]
  },
  {
   "cell_type": "code",
   "execution_count": 13,
   "id": "48199d11",
   "metadata": {},
   "outputs": [],
   "source": [
    "# apply the dictionary\n",
    "colleges_df['state'] = colleges_df['state'].apply(lambda state: abbreviated_states_custom[state])"
   ]
  },
  {
   "cell_type": "code",
   "execution_count": 15,
   "id": "fbfbc6be",
   "metadata": {
    "scrolled": true
   },
   "outputs": [
    {
     "data": {
      "text/html": [
       "<div>\n",
       "<style scoped>\n",
       "    .dataframe tbody tr th:only-of-type {\n",
       "        vertical-align: middle;\n",
       "    }\n",
       "\n",
       "    .dataframe tbody tr th {\n",
       "        vertical-align: top;\n",
       "    }\n",
       "\n",
       "    .dataframe thead th {\n",
       "        text-align: right;\n",
       "    }\n",
       "</style>\n",
       "<table border=\"1\" class=\"dataframe\">\n",
       "  <thead>\n",
       "    <tr style=\"text-align: right;\">\n",
       "      <th></th>\n",
       "      <th>city</th>\n",
       "      <th>state</th>\n",
       "      <th>colleges</th>\n",
       "    </tr>\n",
       "  </thead>\n",
       "  <tbody>\n",
       "    <tr>\n",
       "      <th>0</th>\n",
       "      <td>stanford</td>\n",
       "      <td>california</td>\n",
       "      <td>stanford university</td>\n",
       "    </tr>\n",
       "    <tr>\n",
       "      <th>1</th>\n",
       "      <td>williamsburg</td>\n",
       "      <td>virginia</td>\n",
       "      <td>william &amp; mary</td>\n",
       "    </tr>\n",
       "    <tr>\n",
       "      <th>2</th>\n",
       "      <td>pasadena</td>\n",
       "      <td>california</td>\n",
       "      <td>california institute of technology</td>\n",
       "    </tr>\n",
       "    <tr>\n",
       "      <th>3</th>\n",
       "      <td>princeton</td>\n",
       "      <td>new jersey</td>\n",
       "      <td>princeton university</td>\n",
       "    </tr>\n",
       "    <tr>\n",
       "      <th>4</th>\n",
       "      <td>charlottesville</td>\n",
       "      <td>virginia</td>\n",
       "      <td>university of virginia</td>\n",
       "    </tr>\n",
       "    <tr>\n",
       "      <th>5</th>\n",
       "      <td>ann arbor</td>\n",
       "      <td>michigan</td>\n",
       "      <td>university of michigan-ann arbor</td>\n",
       "    </tr>\n",
       "    <tr>\n",
       "      <th>6</th>\n",
       "      <td>cambridge</td>\n",
       "      <td>massachusetts</td>\n",
       "      <td>harvard university, massachusetts institute of...</td>\n",
       "    </tr>\n",
       "    <tr>\n",
       "      <th>7</th>\n",
       "      <td>berkeley</td>\n",
       "      <td>california</td>\n",
       "      <td>university of california-berkeley</td>\n",
       "    </tr>\n",
       "    <tr>\n",
       "      <th>8</th>\n",
       "      <td>champaign</td>\n",
       "      <td>illinois</td>\n",
       "      <td>university of illinois urbana-champaign</td>\n",
       "    </tr>\n",
       "    <tr>\n",
       "      <th>9</th>\n",
       "      <td>gainesville</td>\n",
       "      <td>florida</td>\n",
       "      <td>university of florida, santa fe college</td>\n",
       "    </tr>\n",
       "  </tbody>\n",
       "</table>\n",
       "</div>"
      ],
      "text/plain": [
       "              city          state  \\\n",
       "0         stanford     california   \n",
       "1     williamsburg       virginia   \n",
       "2         pasadena     california   \n",
       "3        princeton     new jersey   \n",
       "4  charlottesville       virginia   \n",
       "5        ann arbor       michigan   \n",
       "6        cambridge  massachusetts   \n",
       "7         berkeley     california   \n",
       "8        champaign       illinois   \n",
       "9      gainesville        florida   \n",
       "\n",
       "                                            colleges  \n",
       "0                                stanford university  \n",
       "1                                     william & mary  \n",
       "2                 california institute of technology  \n",
       "3                               princeton university  \n",
       "4                             university of virginia  \n",
       "5                   university of michigan-ann arbor  \n",
       "6  harvard university, massachusetts institute of...  \n",
       "7                  university of california-berkeley  \n",
       "8            university of illinois urbana-champaign  \n",
       "9            university of florida, santa fe college  "
      ]
     },
     "execution_count": 15,
     "metadata": {},
     "output_type": "execute_result"
    }
   ],
   "source": [
    "# after\n",
    "colleges_df.head(10)"
   ]
  },
  {
   "cell_type": "markdown",
   "id": "d26048c3",
   "metadata": {},
   "source": [
    "## Visualizing the Data\n",
    "\n",
    "For future exploration, use `data/top-colleges.csv` pulled and cleaned by `scripts/top-colleges-extractor.py`."
   ]
  }
 ],
 "metadata": {
  "kernelspec": {
   "display_name": "Python 3 (ipykernel)",
   "language": "python",
   "name": "python3"
  },
  "language_info": {
   "codemirror_mode": {
    "name": "ipython",
    "version": 3
   },
   "file_extension": ".py",
   "mimetype": "text/x-python",
   "name": "python",
   "nbconvert_exporter": "python",
   "pygments_lexer": "ipython3",
   "version": "3.9.18"
  }
 },
 "nbformat": 4,
 "nbformat_minor": 5
}
