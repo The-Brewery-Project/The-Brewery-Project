{
 "cells": [
  {
   "cell_type": "markdown",
   "id": "28b304b0",
   "metadata": {},
   "source": [
    "# Open-Brewery-DB Exploration\n",
    "\n",
    "The goal of this is to scrape the brewery data avaiable for breweries in the US from the open project and database API found at [Open Brewery DB](https://www.openbrewerydb.org/)."
   ]
  },
  {
   "cell_type": "markdown",
   "id": "31027ec5",
   "metadata": {},
   "source": [
    "## Scraping the Data"
   ]
  },
  {
   "cell_type": "code",
   "execution_count": 1,
   "id": "acbfddc8",
   "metadata": {},
   "outputs": [],
   "source": [
    "# import libraries\n",
    "import requests\n",
    "import json\n",
    "import numpy as np\n",
    "import pandas as pd"
   ]
  },
  {
   "cell_type": "code",
   "execution_count": 2,
   "id": "7c80d317",
   "metadata": {},
   "outputs": [],
   "source": [
    "# pull data with while loop (extracts all database data)\n",
    "data_bool = True\n",
    "page = 1\n",
    "while data_bool == True:\n",
    "    url = f'https://api.openbrewerydb.org/v1/breweries?page={page}&per_page=200'\n",
    "    response = requests.get(url)\n",
    "    data = response.json()\n",
    "    if len(data) == 0:\n",
    "        data_bool = False\n",
    "        break\n",
    "    if page == 1:\n",
    "        data_df = pd.DataFrame(data)\n",
    "    else:\n",
    "        data_df = pd.concat([data_df, pd.DataFrame(data)])\n",
    "    page += 1\n",
    "\n",
    "# reset index\n",
    "data_df.reset_index(inplace = True, drop = True)"
   ]
  },
  {
   "cell_type": "code",
   "execution_count": 6,
   "id": "8c82592a",
   "metadata": {},
   "outputs": [
    {
     "data": {
      "text/html": [
       "<div>\n",
       "<style scoped>\n",
       "    .dataframe tbody tr th:only-of-type {\n",
       "        vertical-align: middle;\n",
       "    }\n",
       "\n",
       "    .dataframe tbody tr th {\n",
       "        vertical-align: top;\n",
       "    }\n",
       "\n",
       "    .dataframe thead th {\n",
       "        text-align: right;\n",
       "    }\n",
       "</style>\n",
       "<table border=\"1\" class=\"dataframe\">\n",
       "  <thead>\n",
       "    <tr style=\"text-align: right;\">\n",
       "      <th></th>\n",
       "      <th>id</th>\n",
       "      <th>name</th>\n",
       "      <th>brewery_type</th>\n",
       "      <th>address_1</th>\n",
       "      <th>address_2</th>\n",
       "      <th>address_3</th>\n",
       "      <th>city</th>\n",
       "      <th>state_province</th>\n",
       "      <th>postal_code</th>\n",
       "      <th>country</th>\n",
       "      <th>longitude</th>\n",
       "      <th>latitude</th>\n",
       "      <th>phone</th>\n",
       "      <th>website_url</th>\n",
       "      <th>state</th>\n",
       "      <th>street</th>\n",
       "    </tr>\n",
       "  </thead>\n",
       "  <tbody>\n",
       "    <tr>\n",
       "      <th>0</th>\n",
       "      <td>5128df48-79fc-4f0f-8b52-d06be54d0cec</td>\n",
       "      <td>(405) Brewing Co</td>\n",
       "      <td>micro</td>\n",
       "      <td>1716 Topeka St</td>\n",
       "      <td>None</td>\n",
       "      <td>None</td>\n",
       "      <td>Norman</td>\n",
       "      <td>Oklahoma</td>\n",
       "      <td>73069-8224</td>\n",
       "      <td>United States</td>\n",
       "      <td>-97.46818222</td>\n",
       "      <td>35.25738891</td>\n",
       "      <td>4058160490</td>\n",
       "      <td>http://www.405brewing.com</td>\n",
       "      <td>Oklahoma</td>\n",
       "      <td>1716 Topeka St</td>\n",
       "    </tr>\n",
       "    <tr>\n",
       "      <th>1</th>\n",
       "      <td>9c5a66c8-cc13-416f-a5d9-0a769c87d318</td>\n",
       "      <td>(512) Brewing Co</td>\n",
       "      <td>micro</td>\n",
       "      <td>407 Radam Ln Ste F200</td>\n",
       "      <td>None</td>\n",
       "      <td>None</td>\n",
       "      <td>Austin</td>\n",
       "      <td>Texas</td>\n",
       "      <td>78745-1197</td>\n",
       "      <td>United States</td>\n",
       "      <td>None</td>\n",
       "      <td>None</td>\n",
       "      <td>5129211545</td>\n",
       "      <td>http://www.512brewing.com</td>\n",
       "      <td>Texas</td>\n",
       "      <td>407 Radam Ln Ste F200</td>\n",
       "    </tr>\n",
       "    <tr>\n",
       "      <th>2</th>\n",
       "      <td>34e8c68b-6146-453f-a4b9-1f6cd99a5ada</td>\n",
       "      <td>1 of Us Brewing Company</td>\n",
       "      <td>micro</td>\n",
       "      <td>8100 Washington Ave</td>\n",
       "      <td>None</td>\n",
       "      <td>None</td>\n",
       "      <td>Mount Pleasant</td>\n",
       "      <td>Wisconsin</td>\n",
       "      <td>53406-3920</td>\n",
       "      <td>United States</td>\n",
       "      <td>-87.88336350209435</td>\n",
       "      <td>42.72010826899558</td>\n",
       "      <td>2624847553</td>\n",
       "      <td>https://www.1ofusbrewing.com</td>\n",
       "      <td>Wisconsin</td>\n",
       "      <td>8100 Washington Ave</td>\n",
       "    </tr>\n",
       "    <tr>\n",
       "      <th>3</th>\n",
       "      <td>ef970757-fe42-416f-931d-722451f1f59c</td>\n",
       "      <td>10 Barrel Brewing Co</td>\n",
       "      <td>large</td>\n",
       "      <td>1501 E St</td>\n",
       "      <td>None</td>\n",
       "      <td>None</td>\n",
       "      <td>San Diego</td>\n",
       "      <td>California</td>\n",
       "      <td>92101-6618</td>\n",
       "      <td>United States</td>\n",
       "      <td>-117.129593</td>\n",
       "      <td>32.714813</td>\n",
       "      <td>6195782311</td>\n",
       "      <td>http://10barrel.com</td>\n",
       "      <td>California</td>\n",
       "      <td>1501 E St</td>\n",
       "    </tr>\n",
       "    <tr>\n",
       "      <th>4</th>\n",
       "      <td>6d14b220-8926-4521-8d19-b98a2d6ec3db</td>\n",
       "      <td>10 Barrel Brewing Co</td>\n",
       "      <td>large</td>\n",
       "      <td>62970 18th St</td>\n",
       "      <td>None</td>\n",
       "      <td>None</td>\n",
       "      <td>Bend</td>\n",
       "      <td>Oregon</td>\n",
       "      <td>97701-9847</td>\n",
       "      <td>United States</td>\n",
       "      <td>-121.281706</td>\n",
       "      <td>44.08683531</td>\n",
       "      <td>5415851007</td>\n",
       "      <td>http://www.10barrel.com</td>\n",
       "      <td>Oregon</td>\n",
       "      <td>62970 18th St</td>\n",
       "    </tr>\n",
       "    <tr>\n",
       "      <th>5</th>\n",
       "      <td>e2e78bd8-80ff-4a61-a65c-3bfbd9d76ce2</td>\n",
       "      <td>10 Barrel Brewing Co</td>\n",
       "      <td>large</td>\n",
       "      <td>1135 NW Galveston Ave Ste B</td>\n",
       "      <td>None</td>\n",
       "      <td>None</td>\n",
       "      <td>Bend</td>\n",
       "      <td>Oregon</td>\n",
       "      <td>97703-2465</td>\n",
       "      <td>United States</td>\n",
       "      <td>-121.3288021</td>\n",
       "      <td>44.0575649</td>\n",
       "      <td>5415851007</td>\n",
       "      <td>None</td>\n",
       "      <td>Oregon</td>\n",
       "      <td>1135 NW Galveston Ave Ste B</td>\n",
       "    </tr>\n",
       "    <tr>\n",
       "      <th>6</th>\n",
       "      <td>e432899b-7f58-455f-9c7b-9a6e2130a1e0</td>\n",
       "      <td>10 Barrel Brewing Co</td>\n",
       "      <td>large</td>\n",
       "      <td>1411 NW Flanders St</td>\n",
       "      <td>None</td>\n",
       "      <td>None</td>\n",
       "      <td>Portland</td>\n",
       "      <td>Oregon</td>\n",
       "      <td>97209-2620</td>\n",
       "      <td>United States</td>\n",
       "      <td>-122.6855056</td>\n",
       "      <td>45.5259786</td>\n",
       "      <td>5032241700</td>\n",
       "      <td>http://www.10barrel.com</td>\n",
       "      <td>Oregon</td>\n",
       "      <td>1411 NW Flanders St</td>\n",
       "    </tr>\n",
       "    <tr>\n",
       "      <th>7</th>\n",
       "      <td>9f1852da-c312-42da-9a31-097bac81c4c0</td>\n",
       "      <td>10 Barrel Brewing Co - Bend Pub</td>\n",
       "      <td>large</td>\n",
       "      <td>62950 NE 18th St</td>\n",
       "      <td>None</td>\n",
       "      <td>None</td>\n",
       "      <td>Bend</td>\n",
       "      <td>Oregon</td>\n",
       "      <td>97701</td>\n",
       "      <td>United States</td>\n",
       "      <td>-121.2809536</td>\n",
       "      <td>44.0912109</td>\n",
       "      <td>5415851007</td>\n",
       "      <td>None</td>\n",
       "      <td>Oregon</td>\n",
       "      <td>62950 NE 18th St</td>\n",
       "    </tr>\n",
       "    <tr>\n",
       "      <th>8</th>\n",
       "      <td>ea4f30c0-bce6-416b-8904-fab4055a7362</td>\n",
       "      <td>10 Barrel Brewing Co - Boise</td>\n",
       "      <td>large</td>\n",
       "      <td>826 W Bannock St</td>\n",
       "      <td>None</td>\n",
       "      <td>None</td>\n",
       "      <td>Boise</td>\n",
       "      <td>Idaho</td>\n",
       "      <td>83702-5857</td>\n",
       "      <td>United States</td>\n",
       "      <td>-116.202929</td>\n",
       "      <td>43.618516</td>\n",
       "      <td>2083445870</td>\n",
       "      <td>http://www.10barrel.com</td>\n",
       "      <td>Idaho</td>\n",
       "      <td>826 W Bannock St</td>\n",
       "    </tr>\n",
       "    <tr>\n",
       "      <th>9</th>\n",
       "      <td>1988eb86-f0a2-4674-ba04-02454efa0d31</td>\n",
       "      <td>10 Barrel Brewing Co - Denver</td>\n",
       "      <td>large</td>\n",
       "      <td>2620 Walnut St</td>\n",
       "      <td>None</td>\n",
       "      <td>None</td>\n",
       "      <td>Denver</td>\n",
       "      <td>Colorado</td>\n",
       "      <td>80205-2231</td>\n",
       "      <td>United States</td>\n",
       "      <td>-104.9853655</td>\n",
       "      <td>39.7592508</td>\n",
       "      <td>7205738992</td>\n",
       "      <td>None</td>\n",
       "      <td>Colorado</td>\n",
       "      <td>2620 Walnut St</td>\n",
       "    </tr>\n",
       "  </tbody>\n",
       "</table>\n",
       "</div>"
      ],
      "text/plain": [
       "                                     id                             name  \\\n",
       "0  5128df48-79fc-4f0f-8b52-d06be54d0cec                 (405) Brewing Co   \n",
       "1  9c5a66c8-cc13-416f-a5d9-0a769c87d318                 (512) Brewing Co   \n",
       "2  34e8c68b-6146-453f-a4b9-1f6cd99a5ada          1 of Us Brewing Company   \n",
       "3  ef970757-fe42-416f-931d-722451f1f59c             10 Barrel Brewing Co   \n",
       "4  6d14b220-8926-4521-8d19-b98a2d6ec3db             10 Barrel Brewing Co   \n",
       "5  e2e78bd8-80ff-4a61-a65c-3bfbd9d76ce2             10 Barrel Brewing Co   \n",
       "6  e432899b-7f58-455f-9c7b-9a6e2130a1e0             10 Barrel Brewing Co   \n",
       "7  9f1852da-c312-42da-9a31-097bac81c4c0  10 Barrel Brewing Co - Bend Pub   \n",
       "8  ea4f30c0-bce6-416b-8904-fab4055a7362     10 Barrel Brewing Co - Boise   \n",
       "9  1988eb86-f0a2-4674-ba04-02454efa0d31    10 Barrel Brewing Co - Denver   \n",
       "\n",
       "  brewery_type                    address_1 address_2 address_3  \\\n",
       "0        micro               1716 Topeka St      None      None   \n",
       "1        micro        407 Radam Ln Ste F200      None      None   \n",
       "2        micro          8100 Washington Ave      None      None   \n",
       "3        large                    1501 E St      None      None   \n",
       "4        large                62970 18th St      None      None   \n",
       "5        large  1135 NW Galveston Ave Ste B      None      None   \n",
       "6        large          1411 NW Flanders St      None      None   \n",
       "7        large             62950 NE 18th St      None      None   \n",
       "8        large             826 W Bannock St      None      None   \n",
       "9        large               2620 Walnut St      None      None   \n",
       "\n",
       "             city state_province postal_code        country  \\\n",
       "0          Norman       Oklahoma  73069-8224  United States   \n",
       "1          Austin          Texas  78745-1197  United States   \n",
       "2  Mount Pleasant      Wisconsin  53406-3920  United States   \n",
       "3       San Diego     California  92101-6618  United States   \n",
       "4            Bend         Oregon  97701-9847  United States   \n",
       "5            Bend         Oregon  97703-2465  United States   \n",
       "6        Portland         Oregon  97209-2620  United States   \n",
       "7            Bend         Oregon       97701  United States   \n",
       "8           Boise          Idaho  83702-5857  United States   \n",
       "9          Denver       Colorado  80205-2231  United States   \n",
       "\n",
       "            longitude           latitude       phone  \\\n",
       "0        -97.46818222        35.25738891  4058160490   \n",
       "1                None               None  5129211545   \n",
       "2  -87.88336350209435  42.72010826899558  2624847553   \n",
       "3         -117.129593          32.714813  6195782311   \n",
       "4         -121.281706        44.08683531  5415851007   \n",
       "5        -121.3288021         44.0575649  5415851007   \n",
       "6        -122.6855056         45.5259786  5032241700   \n",
       "7        -121.2809536         44.0912109  5415851007   \n",
       "8         -116.202929          43.618516  2083445870   \n",
       "9        -104.9853655         39.7592508  7205738992   \n",
       "\n",
       "                    website_url       state                       street  \n",
       "0     http://www.405brewing.com    Oklahoma               1716 Topeka St  \n",
       "1     http://www.512brewing.com       Texas        407 Radam Ln Ste F200  \n",
       "2  https://www.1ofusbrewing.com   Wisconsin          8100 Washington Ave  \n",
       "3           http://10barrel.com  California                    1501 E St  \n",
       "4       http://www.10barrel.com      Oregon                62970 18th St  \n",
       "5                          None      Oregon  1135 NW Galveston Ave Ste B  \n",
       "6       http://www.10barrel.com      Oregon          1411 NW Flanders St  \n",
       "7                          None      Oregon             62950 NE 18th St  \n",
       "8       http://www.10barrel.com       Idaho             826 W Bannock St  \n",
       "9                          None    Colorado               2620 Walnut St  "
      ]
     },
     "execution_count": 6,
     "metadata": {},
     "output_type": "execute_result"
    }
   ],
   "source": [
    "# before\n",
    "data_df.head(10)"
   ]
  },
  {
   "cell_type": "markdown",
   "id": "0cc1af20",
   "metadata": {},
   "source": [
    "## Cleaning the Data"
   ]
  },
  {
   "cell_type": "code",
   "execution_count": 4,
   "id": "60174e2b",
   "metadata": {},
   "outputs": [],
   "source": [
    "# lambda function to make lower case, remove trailing or leading spaces\n",
    "lower_strip = lambda text: text.lower().strip() if text is not None else None"
   ]
  },
  {
   "cell_type": "code",
   "execution_count": 5,
   "id": "11a9b9be",
   "metadata": {},
   "outputs": [
    {
     "data": {
      "text/plain": [
       "United States     7972\n",
       "Ireland             70\n",
       "England             62\n",
       "South Korea         61\n",
       "Poland              34\n",
       "Portugal            14\n",
       "Austria             14\n",
       "Scotland            10\n",
       "Sweden               6\n",
       "France               3\n",
       "Isle of Man          2\n",
       " United States       1\n",
       "Name: country, dtype: int64"
      ]
     },
     "execution_count": 5,
     "metadata": {},
     "output_type": "execute_result"
    }
   ],
   "source": [
    "# how much data will we be removing by sticking to just the US, and what type of cleaning is required?\n",
    "data_df['country'].value_counts()"
   ]
  },
  {
   "cell_type": "code",
   "execution_count": 6,
   "id": "78d34bbc",
   "metadata": {},
   "outputs": [],
   "source": [
    "# clean country column and filter for \"united states\"\n",
    "data_df['country'] = data_df['country'].apply(func=lower_strip)\n",
    "data_us = data_df[data_df['country'] == 'united states']"
   ]
  },
  {
   "cell_type": "code",
   "execution_count": 7,
   "id": "2c32d43f",
   "metadata": {},
   "outputs": [
    {
     "data": {
      "text/plain": [
       "united states    7973\n",
       "Name: country, dtype: int64"
      ]
     },
     "execution_count": 7,
     "metadata": {},
     "output_type": "execute_result"
    }
   ],
   "source": [
    "data_us['country'].value_counts()"
   ]
  },
  {
   "cell_type": "code",
   "execution_count": 9,
   "id": "871efd20",
   "metadata": {},
   "outputs": [
    {
     "data": {
      "text/plain": [
       "id                   0\n",
       "name                 0\n",
       "brewery_type         0\n",
       "address_1          768\n",
       "address_2         7968\n",
       "address_3         7973\n",
       "city                 0\n",
       "state_province       0\n",
       "postal_code          0\n",
       "country              0\n",
       "longitude         2326\n",
       "latitude          2326\n",
       "phone              790\n",
       "website_url       1132\n",
       "state                0\n",
       "street             768\n",
       "dtype: int64"
      ]
     },
     "execution_count": 9,
     "metadata": {},
     "output_type": "execute_result"
    }
   ],
   "source": [
    "# now that we have just the US, let's see what type of null value data is remaining\n",
    "data_us.isnull().sum()"
   ]
  },
  {
   "cell_type": "code",
   "execution_count": 12,
   "id": "3245aa1e",
   "metadata": {},
   "outputs": [
    {
     "data": {
      "text/html": [
       "<div>\n",
       "<style scoped>\n",
       "    .dataframe tbody tr th:only-of-type {\n",
       "        vertical-align: middle;\n",
       "    }\n",
       "\n",
       "    .dataframe tbody tr th {\n",
       "        vertical-align: top;\n",
       "    }\n",
       "\n",
       "    .dataframe thead th {\n",
       "        text-align: right;\n",
       "    }\n",
       "</style>\n",
       "<table border=\"1\" class=\"dataframe\">\n",
       "  <thead>\n",
       "    <tr style=\"text-align: right;\">\n",
       "      <th></th>\n",
       "      <th>id</th>\n",
       "      <th>name</th>\n",
       "      <th>brewery_type</th>\n",
       "      <th>city</th>\n",
       "      <th>postal_code</th>\n",
       "      <th>country</th>\n",
       "      <th>longitude</th>\n",
       "      <th>latitude</th>\n",
       "      <th>phone</th>\n",
       "      <th>website_url</th>\n",
       "      <th>state</th>\n",
       "      <th>street</th>\n",
       "    </tr>\n",
       "  </thead>\n",
       "  <tbody>\n",
       "  </tbody>\n",
       "</table>\n",
       "</div>"
      ],
      "text/plain": [
       "Empty DataFrame\n",
       "Columns: [id, name, brewery_type, city, postal_code, country, longitude, latitude, phone, website_url, state, street]\n",
       "Index: []"
      ]
     },
     "execution_count": 12,
     "metadata": {},
     "output_type": "execute_result"
    }
   ],
   "source": [
    "# is street equivalent to address_1?\n",
    "data_us[data_us['address_1'] != data_us['street']]"
   ]
  },
  {
   "cell_type": "code",
   "execution_count": null,
   "id": "8a80b9f1",
   "metadata": {},
   "outputs": [],
   "source": [
    "# is state equivalent to state_province?\n",
    "data_us[data_us['state_province'] != data_us['state']]"
   ]
  },
  {
   "cell_type": "markdown",
   "id": "cf75cc39",
   "metadata": {},
   "source": [
    "With this amount of data and for the purposes of our project, we could probably remove the rows which don't contain a tier-1 address.\n",
    "\n",
    "Most tier-2 and tier-3 addresses are missing, so let's just remove those columns.\n",
    "\n",
    "Additionally, **street** is an identical column to **address_1** as is **state** to **state_province**. We can remove the duplicate columns."
   ]
  },
  {
   "cell_type": "code",
   "execution_count": 10,
   "id": "b5fdb2c6",
   "metadata": {},
   "outputs": [
    {
     "name": "stderr",
     "output_type": "stream",
     "text": [
      "C:\\Users\\carlj\\AppData\\Local\\Temp\\ipykernel_20660\\792256491.py:2: SettingWithCopyWarning: \n",
      "A value is trying to be set on a copy of a slice from a DataFrame\n",
      "\n",
      "See the caveats in the documentation: https://pandas.pydata.org/pandas-docs/stable/user_guide/indexing.html#returning-a-view-versus-a-copy\n",
      "  data_us.dropna(subset = ['address_1'], axis = 0, inplace = True)\n",
      "C:\\Users\\carlj\\AppData\\Local\\Temp\\ipykernel_20660\\792256491.py:3: SettingWithCopyWarning: \n",
      "A value is trying to be set on a copy of a slice from a DataFrame\n",
      "\n",
      "See the caveats in the documentation: https://pandas.pydata.org/pandas-docs/stable/user_guide/indexing.html#returning-a-view-versus-a-copy\n",
      "  data_us.drop(['address_2', 'address_3'], axis = 1, inplace = True)\n",
      "C:\\Users\\carlj\\AppData\\Local\\Temp\\ipykernel_20660\\792256491.py:6: SettingWithCopyWarning: \n",
      "A value is trying to be set on a copy of a slice from a DataFrame\n",
      "\n",
      "See the caveats in the documentation: https://pandas.pydata.org/pandas-docs/stable/user_guide/indexing.html#returning-a-view-versus-a-copy\n",
      "  data_us.drop(['address_1', 'state_province'], axis = 1, inplace = True)\n"
     ]
    }
   ],
   "source": [
    "# drop all locations without addy 1, and remove addy 2 and addy 3 columns\n",
    "data_us.dropna(subset = ['address_1'], axis = 0, inplace = True)\n",
    "data_us.drop(['address_2', 'address_3'], axis = 1, inplace = True)\n",
    "\n",
    "# remove address_1 and state_province columns (these are equivalents of street and state)\n",
    "data_us.drop(['address_1', 'state_province'], axis = 1, inplace = True)"
   ]
  },
  {
   "cell_type": "markdown",
   "id": "16315c3a",
   "metadata": {},
   "source": [
    "We should apply our cleaning function to the rest of the applicable text-based columns."
   ]
  },
  {
   "cell_type": "code",
   "execution_count": 13,
   "id": "aaa43ba2",
   "metadata": {},
   "outputs": [
    {
     "name": "stderr",
     "output_type": "stream",
     "text": [
      "C:\\Users\\carlj\\AppData\\Local\\Temp\\ipykernel_20660\\2023110785.py:2: SettingWithCopyWarning: \n",
      "A value is trying to be set on a copy of a slice from a DataFrame.\n",
      "Try using .loc[row_indexer,col_indexer] = value instead\n",
      "\n",
      "See the caveats in the documentation: https://pandas.pydata.org/pandas-docs/stable/user_guide/indexing.html#returning-a-view-versus-a-copy\n",
      "  data_us['name'] = data_us['name'].apply(func=lower_strip)\n",
      "C:\\Users\\carlj\\AppData\\Local\\Temp\\ipykernel_20660\\2023110785.py:3: SettingWithCopyWarning: \n",
      "A value is trying to be set on a copy of a slice from a DataFrame.\n",
      "Try using .loc[row_indexer,col_indexer] = value instead\n",
      "\n",
      "See the caveats in the documentation: https://pandas.pydata.org/pandas-docs/stable/user_guide/indexing.html#returning-a-view-versus-a-copy\n",
      "  data_us['brewery_type'] = data_us['brewery_type'].apply(func=lower_strip)\n",
      "C:\\Users\\carlj\\AppData\\Local\\Temp\\ipykernel_20660\\2023110785.py:4: SettingWithCopyWarning: \n",
      "A value is trying to be set on a copy of a slice from a DataFrame.\n",
      "Try using .loc[row_indexer,col_indexer] = value instead\n",
      "\n",
      "See the caveats in the documentation: https://pandas.pydata.org/pandas-docs/stable/user_guide/indexing.html#returning-a-view-versus-a-copy\n",
      "  data_us['city'] = data_us['city'].apply(func=lower_strip)\n",
      "C:\\Users\\carlj\\AppData\\Local\\Temp\\ipykernel_20660\\2023110785.py:5: SettingWithCopyWarning: \n",
      "A value is trying to be set on a copy of a slice from a DataFrame.\n",
      "Try using .loc[row_indexer,col_indexer] = value instead\n",
      "\n",
      "See the caveats in the documentation: https://pandas.pydata.org/pandas-docs/stable/user_guide/indexing.html#returning-a-view-versus-a-copy\n",
      "  data_us['state'] = data_us['state'].apply(func=lower_strip)\n",
      "C:\\Users\\carlj\\AppData\\Local\\Temp\\ipykernel_20660\\2023110785.py:6: SettingWithCopyWarning: \n",
      "A value is trying to be set on a copy of a slice from a DataFrame.\n",
      "Try using .loc[row_indexer,col_indexer] = value instead\n",
      "\n",
      "See the caveats in the documentation: https://pandas.pydata.org/pandas-docs/stable/user_guide/indexing.html#returning-a-view-versus-a-copy\n",
      "  data_us['street'] = data_us['street'].apply(func=lower_strip)\n",
      "C:\\Users\\carlj\\AppData\\Local\\Temp\\ipykernel_20660\\2023110785.py:7: SettingWithCopyWarning: \n",
      "A value is trying to be set on a copy of a slice from a DataFrame.\n",
      "Try using .loc[row_indexer,col_indexer] = value instead\n",
      "\n",
      "See the caveats in the documentation: https://pandas.pydata.org/pandas-docs/stable/user_guide/indexing.html#returning-a-view-versus-a-copy\n",
      "  data_us['website_url'] = data_us['website_url'].apply(func=lower_strip)\n"
     ]
    }
   ],
   "source": [
    "# clean name, brewery_type, city, state, street, and website_url columns\n",
    "data_us['name'] = data_us['name'].apply(func=lower_strip)\n",
    "data_us['brewery_type'] = data_us['brewery_type'].apply(func=lower_strip)\n",
    "data_us['city'] = data_us['city'].apply(func=lower_strip)\n",
    "data_us['state'] = data_us['state'].apply(func=lower_strip)\n",
    "data_us['street'] = data_us['street'].apply(func=lower_strip)\n",
    "data_us['website_url'] = data_us['website_url'].apply(func=lower_strip)"
   ]
  },
  {
   "cell_type": "code",
   "execution_count": 15,
   "id": "c406106c",
   "metadata": {},
   "outputs": [
    {
     "data": {
      "text/plain": [
       "id                 0\n",
       "name               0\n",
       "brewery_type       0\n",
       "city               0\n",
       "postal_code        0\n",
       "country            0\n",
       "longitude       1683\n",
       "latitude        1683\n",
       "phone            543\n",
       "website_url      787\n",
       "state              0\n",
       "street             0\n",
       "dtype: int64"
      ]
     },
     "execution_count": 15,
     "metadata": {},
     "output_type": "execute_result"
    }
   ],
   "source": [
    "# let's check nulls again\n",
    "data_us.isnull().sum()"
   ]
  },
  {
   "cell_type": "markdown",
   "id": "4476e9e7",
   "metadata": {},
   "source": [
    "At the very least, we have full addresses. It's very likely that longitude/latitude, phone numbers, and websites won't be relevant. We'll keep these rows for now, and consider them *copmlete* enough."
   ]
  },
  {
   "cell_type": "code",
   "execution_count": 14,
   "id": "93400063",
   "metadata": {},
   "outputs": [
    {
     "data": {
      "text/html": [
       "<div>\n",
       "<style scoped>\n",
       "    .dataframe tbody tr th:only-of-type {\n",
       "        vertical-align: middle;\n",
       "    }\n",
       "\n",
       "    .dataframe tbody tr th {\n",
       "        vertical-align: top;\n",
       "    }\n",
       "\n",
       "    .dataframe thead th {\n",
       "        text-align: right;\n",
       "    }\n",
       "</style>\n",
       "<table border=\"1\" class=\"dataframe\">\n",
       "  <thead>\n",
       "    <tr style=\"text-align: right;\">\n",
       "      <th></th>\n",
       "      <th>id</th>\n",
       "      <th>name</th>\n",
       "      <th>brewery_type</th>\n",
       "      <th>city</th>\n",
       "      <th>postal_code</th>\n",
       "      <th>country</th>\n",
       "      <th>longitude</th>\n",
       "      <th>latitude</th>\n",
       "      <th>phone</th>\n",
       "      <th>website_url</th>\n",
       "      <th>state</th>\n",
       "      <th>street</th>\n",
       "    </tr>\n",
       "  </thead>\n",
       "  <tbody>\n",
       "    <tr>\n",
       "      <th>0</th>\n",
       "      <td>5128df48-79fc-4f0f-8b52-d06be54d0cec</td>\n",
       "      <td>(405) brewing co</td>\n",
       "      <td>micro</td>\n",
       "      <td>norman</td>\n",
       "      <td>73069-8224</td>\n",
       "      <td>united states</td>\n",
       "      <td>-97.46818222</td>\n",
       "      <td>35.25738891</td>\n",
       "      <td>4058160490</td>\n",
       "      <td>http://www.405brewing.com</td>\n",
       "      <td>oklahoma</td>\n",
       "      <td>1716 topeka st</td>\n",
       "    </tr>\n",
       "    <tr>\n",
       "      <th>1</th>\n",
       "      <td>9c5a66c8-cc13-416f-a5d9-0a769c87d318</td>\n",
       "      <td>(512) brewing co</td>\n",
       "      <td>micro</td>\n",
       "      <td>austin</td>\n",
       "      <td>78745-1197</td>\n",
       "      <td>united states</td>\n",
       "      <td>None</td>\n",
       "      <td>None</td>\n",
       "      <td>5129211545</td>\n",
       "      <td>http://www.512brewing.com</td>\n",
       "      <td>texas</td>\n",
       "      <td>407 radam ln ste f200</td>\n",
       "    </tr>\n",
       "    <tr>\n",
       "      <th>2</th>\n",
       "      <td>34e8c68b-6146-453f-a4b9-1f6cd99a5ada</td>\n",
       "      <td>1 of us brewing company</td>\n",
       "      <td>micro</td>\n",
       "      <td>mount pleasant</td>\n",
       "      <td>53406-3920</td>\n",
       "      <td>united states</td>\n",
       "      <td>-87.88336350209435</td>\n",
       "      <td>42.72010826899558</td>\n",
       "      <td>2624847553</td>\n",
       "      <td>https://www.1ofusbrewing.com</td>\n",
       "      <td>wisconsin</td>\n",
       "      <td>8100 washington ave</td>\n",
       "    </tr>\n",
       "    <tr>\n",
       "      <th>3</th>\n",
       "      <td>ef970757-fe42-416f-931d-722451f1f59c</td>\n",
       "      <td>10 barrel brewing co</td>\n",
       "      <td>large</td>\n",
       "      <td>san diego</td>\n",
       "      <td>92101-6618</td>\n",
       "      <td>united states</td>\n",
       "      <td>-117.129593</td>\n",
       "      <td>32.714813</td>\n",
       "      <td>6195782311</td>\n",
       "      <td>http://10barrel.com</td>\n",
       "      <td>california</td>\n",
       "      <td>1501 e st</td>\n",
       "    </tr>\n",
       "    <tr>\n",
       "      <th>4</th>\n",
       "      <td>6d14b220-8926-4521-8d19-b98a2d6ec3db</td>\n",
       "      <td>10 barrel brewing co</td>\n",
       "      <td>large</td>\n",
       "      <td>bend</td>\n",
       "      <td>97701-9847</td>\n",
       "      <td>united states</td>\n",
       "      <td>-121.281706</td>\n",
       "      <td>44.08683531</td>\n",
       "      <td>5415851007</td>\n",
       "      <td>http://www.10barrel.com</td>\n",
       "      <td>oregon</td>\n",
       "      <td>62970 18th st</td>\n",
       "    </tr>\n",
       "    <tr>\n",
       "      <th>5</th>\n",
       "      <td>e2e78bd8-80ff-4a61-a65c-3bfbd9d76ce2</td>\n",
       "      <td>10 barrel brewing co</td>\n",
       "      <td>large</td>\n",
       "      <td>bend</td>\n",
       "      <td>97703-2465</td>\n",
       "      <td>united states</td>\n",
       "      <td>-121.3288021</td>\n",
       "      <td>44.0575649</td>\n",
       "      <td>5415851007</td>\n",
       "      <td>None</td>\n",
       "      <td>oregon</td>\n",
       "      <td>1135 nw galveston ave ste b</td>\n",
       "    </tr>\n",
       "    <tr>\n",
       "      <th>6</th>\n",
       "      <td>e432899b-7f58-455f-9c7b-9a6e2130a1e0</td>\n",
       "      <td>10 barrel brewing co</td>\n",
       "      <td>large</td>\n",
       "      <td>portland</td>\n",
       "      <td>97209-2620</td>\n",
       "      <td>united states</td>\n",
       "      <td>-122.6855056</td>\n",
       "      <td>45.5259786</td>\n",
       "      <td>5032241700</td>\n",
       "      <td>http://www.10barrel.com</td>\n",
       "      <td>oregon</td>\n",
       "      <td>1411 nw flanders st</td>\n",
       "    </tr>\n",
       "    <tr>\n",
       "      <th>7</th>\n",
       "      <td>9f1852da-c312-42da-9a31-097bac81c4c0</td>\n",
       "      <td>10 barrel brewing co - bend pub</td>\n",
       "      <td>large</td>\n",
       "      <td>bend</td>\n",
       "      <td>97701</td>\n",
       "      <td>united states</td>\n",
       "      <td>-121.2809536</td>\n",
       "      <td>44.0912109</td>\n",
       "      <td>5415851007</td>\n",
       "      <td>None</td>\n",
       "      <td>oregon</td>\n",
       "      <td>62950 ne 18th st</td>\n",
       "    </tr>\n",
       "    <tr>\n",
       "      <th>8</th>\n",
       "      <td>ea4f30c0-bce6-416b-8904-fab4055a7362</td>\n",
       "      <td>10 barrel brewing co - boise</td>\n",
       "      <td>large</td>\n",
       "      <td>boise</td>\n",
       "      <td>83702-5857</td>\n",
       "      <td>united states</td>\n",
       "      <td>-116.202929</td>\n",
       "      <td>43.618516</td>\n",
       "      <td>2083445870</td>\n",
       "      <td>http://www.10barrel.com</td>\n",
       "      <td>idaho</td>\n",
       "      <td>826 w bannock st</td>\n",
       "    </tr>\n",
       "    <tr>\n",
       "      <th>9</th>\n",
       "      <td>1988eb86-f0a2-4674-ba04-02454efa0d31</td>\n",
       "      <td>10 barrel brewing co - denver</td>\n",
       "      <td>large</td>\n",
       "      <td>denver</td>\n",
       "      <td>80205-2231</td>\n",
       "      <td>united states</td>\n",
       "      <td>-104.9853655</td>\n",
       "      <td>39.7592508</td>\n",
       "      <td>7205738992</td>\n",
       "      <td>None</td>\n",
       "      <td>colorado</td>\n",
       "      <td>2620 walnut st</td>\n",
       "    </tr>\n",
       "  </tbody>\n",
       "</table>\n",
       "</div>"
      ],
      "text/plain": [
       "                                     id                             name  \\\n",
       "0  5128df48-79fc-4f0f-8b52-d06be54d0cec                 (405) brewing co   \n",
       "1  9c5a66c8-cc13-416f-a5d9-0a769c87d318                 (512) brewing co   \n",
       "2  34e8c68b-6146-453f-a4b9-1f6cd99a5ada          1 of us brewing company   \n",
       "3  ef970757-fe42-416f-931d-722451f1f59c             10 barrel brewing co   \n",
       "4  6d14b220-8926-4521-8d19-b98a2d6ec3db             10 barrel brewing co   \n",
       "5  e2e78bd8-80ff-4a61-a65c-3bfbd9d76ce2             10 barrel brewing co   \n",
       "6  e432899b-7f58-455f-9c7b-9a6e2130a1e0             10 barrel brewing co   \n",
       "7  9f1852da-c312-42da-9a31-097bac81c4c0  10 barrel brewing co - bend pub   \n",
       "8  ea4f30c0-bce6-416b-8904-fab4055a7362     10 barrel brewing co - boise   \n",
       "9  1988eb86-f0a2-4674-ba04-02454efa0d31    10 barrel brewing co - denver   \n",
       "\n",
       "  brewery_type            city postal_code        country           longitude  \\\n",
       "0        micro          norman  73069-8224  united states        -97.46818222   \n",
       "1        micro          austin  78745-1197  united states                None   \n",
       "2        micro  mount pleasant  53406-3920  united states  -87.88336350209435   \n",
       "3        large       san diego  92101-6618  united states         -117.129593   \n",
       "4        large            bend  97701-9847  united states         -121.281706   \n",
       "5        large            bend  97703-2465  united states        -121.3288021   \n",
       "6        large        portland  97209-2620  united states        -122.6855056   \n",
       "7        large            bend       97701  united states        -121.2809536   \n",
       "8        large           boise  83702-5857  united states         -116.202929   \n",
       "9        large          denver  80205-2231  united states        -104.9853655   \n",
       "\n",
       "            latitude       phone                   website_url       state  \\\n",
       "0        35.25738891  4058160490     http://www.405brewing.com    oklahoma   \n",
       "1               None  5129211545     http://www.512brewing.com       texas   \n",
       "2  42.72010826899558  2624847553  https://www.1ofusbrewing.com   wisconsin   \n",
       "3          32.714813  6195782311           http://10barrel.com  california   \n",
       "4        44.08683531  5415851007       http://www.10barrel.com      oregon   \n",
       "5         44.0575649  5415851007                          None      oregon   \n",
       "6         45.5259786  5032241700       http://www.10barrel.com      oregon   \n",
       "7         44.0912109  5415851007                          None      oregon   \n",
       "8          43.618516  2083445870       http://www.10barrel.com       idaho   \n",
       "9         39.7592508  7205738992                          None    colorado   \n",
       "\n",
       "                        street  \n",
       "0               1716 topeka st  \n",
       "1        407 radam ln ste f200  \n",
       "2          8100 washington ave  \n",
       "3                    1501 e st  \n",
       "4                62970 18th st  \n",
       "5  1135 nw galveston ave ste b  \n",
       "6          1411 nw flanders st  \n",
       "7             62950 ne 18th st  \n",
       "8             826 w bannock st  \n",
       "9               2620 walnut st  "
      ]
     },
     "execution_count": 14,
     "metadata": {},
     "output_type": "execute_result"
    }
   ],
   "source": [
    "# after\n",
    "data_us.head(10)"
   ]
  },
  {
   "cell_type": "markdown",
   "id": "4a419898",
   "metadata": {},
   "source": [
    "## Visualizing the Data\n",
    "\n",
    "For future exploration, use `data/open-brewery-db.csv` pulled and cleaned by `scripts/open-brewery-db-extractor.py`."
   ]
  },
  {
   "cell_type": "code",
   "execution_count": 1,
   "id": "d2b009c8",
   "metadata": {},
   "outputs": [],
   "source": [
    "# import libraries\n",
    "import numpy as np\n",
    "import pandas as pd\n",
    "import matplotlib.pyplot as plt\n",
    "import seaborn as sns\n",
    "import plotly.express as px"
   ]
  },
  {
   "cell_type": "code",
   "execution_count": 2,
   "id": "73e7ec12",
   "metadata": {},
   "outputs": [],
   "source": [
    "# import dataframe if returning\n",
    "df = pd.read_csv('../data/open-brewery-db.csv')"
   ]
  },
  {
   "cell_type": "code",
   "execution_count": 3,
   "id": "a1fcd958",
   "metadata": {},
   "outputs": [
    {
     "name": "stdout",
     "output_type": "stream",
     "text": [
      "<class 'pandas.core.frame.DataFrame'>\n",
      "RangeIndex: 7205 entries, 0 to 7204\n",
      "Data columns (total 12 columns):\n",
      " #   Column        Non-Null Count  Dtype  \n",
      "---  ------        --------------  -----  \n",
      " 0   id            7205 non-null   object \n",
      " 1   name          7205 non-null   object \n",
      " 2   brewery_type  7205 non-null   object \n",
      " 3   city          7205 non-null   object \n",
      " 4   postal_code   7205 non-null   object \n",
      " 5   country       7205 non-null   object \n",
      " 6   longitude     5522 non-null   float64\n",
      " 7   latitude      5522 non-null   float64\n",
      " 8   phone         6662 non-null   object \n",
      " 9   website_url   6418 non-null   object \n",
      " 10  state         7205 non-null   object \n",
      " 11  street        7205 non-null   object \n",
      "dtypes: float64(2), object(10)\n",
      "memory usage: 675.6+ KB\n"
     ]
    }
   ],
   "source": [
    "# basic data statistics\n",
    "df.info()"
   ]
  },
  {
   "cell_type": "code",
   "execution_count": 4,
   "id": "95185dc0",
   "metadata": {},
   "outputs": [
    {
     "data": {
      "text/html": [
       "<div>\n",
       "<style scoped>\n",
       "    .dataframe tbody tr th:only-of-type {\n",
       "        vertical-align: middle;\n",
       "    }\n",
       "\n",
       "    .dataframe tbody tr th {\n",
       "        vertical-align: top;\n",
       "    }\n",
       "\n",
       "    .dataframe thead th {\n",
       "        text-align: right;\n",
       "    }\n",
       "</style>\n",
       "<table border=\"1\" class=\"dataframe\">\n",
       "  <thead>\n",
       "    <tr style=\"text-align: right;\">\n",
       "      <th></th>\n",
       "      <th>longitude</th>\n",
       "      <th>latitude</th>\n",
       "    </tr>\n",
       "  </thead>\n",
       "  <tbody>\n",
       "    <tr>\n",
       "      <th>count</th>\n",
       "      <td>5522.000000</td>\n",
       "      <td>5.522000e+03</td>\n",
       "    </tr>\n",
       "    <tr>\n",
       "      <th>mean</th>\n",
       "      <td>-97.773401</td>\n",
       "      <td>1.563181e+03</td>\n",
       "    </tr>\n",
       "    <tr>\n",
       "      <th>std</th>\n",
       "      <td>18.756119</td>\n",
       "      <td>1.131958e+05</td>\n",
       "    </tr>\n",
       "    <tr>\n",
       "      <th>min</th>\n",
       "      <td>-159.586522</td>\n",
       "      <td>-4.478217e+01</td>\n",
       "    </tr>\n",
       "    <tr>\n",
       "      <th>25%</th>\n",
       "      <td>-117.590895</td>\n",
       "      <td>3.617073e+01</td>\n",
       "    </tr>\n",
       "    <tr>\n",
       "      <th>50%</th>\n",
       "      <td>-93.191783</td>\n",
       "      <td>4.023997e+01</td>\n",
       "    </tr>\n",
       "    <tr>\n",
       "      <th>75%</th>\n",
       "      <td>-81.937273</td>\n",
       "      <td>4.318590e+01</td>\n",
       "    </tr>\n",
       "    <tr>\n",
       "      <th>max</th>\n",
       "      <td>-66.983481</td>\n",
       "      <td>8.411641e+06</td>\n",
       "    </tr>\n",
       "  </tbody>\n",
       "</table>\n",
       "</div>"
      ],
      "text/plain": [
       "         longitude      latitude\n",
       "count  5522.000000  5.522000e+03\n",
       "mean    -97.773401  1.563181e+03\n",
       "std      18.756119  1.131958e+05\n",
       "min    -159.586522 -4.478217e+01\n",
       "25%    -117.590895  3.617073e+01\n",
       "50%     -93.191783  4.023997e+01\n",
       "75%     -81.937273  4.318590e+01\n",
       "max     -66.983481  8.411641e+06"
      ]
     },
     "execution_count": 4,
     "metadata": {},
     "output_type": "execute_result"
    }
   ],
   "source": [
    "df.describe()"
   ]
  },
  {
   "cell_type": "code",
   "execution_count": 8,
   "id": "3c5825d0",
   "metadata": {},
   "outputs": [
    {
     "data": {
      "text/plain": [
       "id              7205\n",
       "name            7078\n",
       "brewery_type      12\n",
       "city            2704\n",
       "postal_code     6999\n",
       "country            1\n",
       "longitude       5438\n",
       "latitude        5438\n",
       "phone           6486\n",
       "website_url     6069\n",
       "state             51\n",
       "street          7113\n",
       "dtype: int64"
      ]
     },
     "execution_count": 8,
     "metadata": {},
     "output_type": "execute_result"
    }
   ],
   "source": [
    "b# how many states are in the data \n",
    "df.nunique()"
   ]
  },
  {
   "cell_type": "code",
   "execution_count": 14,
   "id": "eeb6630f",
   "metadata": {},
   "outputs": [],
   "source": [
    "main_color = sns.color_palette()[0]"
   ]
  },
  {
   "cell_type": "code",
   "execution_count": 18,
   "id": "dc897ed9",
   "metadata": {},
   "outputs": [
    {
     "data": {
      "text/plain": [
       "Index(['micro', 'brewpub', 'regional', 'closed', 'contract', 'large',\n",
       "       'proprietor', 'planning', 'nano', 'bar', 'location', 'taproom'],\n",
       "      dtype='object')"
      ]
     },
     "execution_count": 18,
     "metadata": {},
     "output_type": "execute_result"
    }
   ],
   "source": [
    "brewery_type_order = df['brewery_type'].value_counts().index\n",
    "brewery_type_order"
   ]
  },
  {
   "cell_type": "code",
   "execution_count": 21,
   "id": "6d0808d3",
   "metadata": {},
   "outputs": [
    {
     "data": {
      "image/png": "[encoded data removed]",
      "text/plain": [
       "<Figure size 640x480 with 1 Axes>"
      ]
     },
     "metadata": {},
     "output_type": "display_data"
    }
   ],
   "source": [
    "# brewery type\n",
    "sns.countplot(data=df, y = 'brewery_type', color = main_color, order = brewery_type_order)\n",
    "plt.xlabel('Count')\n",
    "plt.ylabel('Brewery Type')\n",
    "plt.title('Brewery Counts by Type')\n",
    "plt.show()"
   ]
  },
  {
   "cell_type": "code",
   "execution_count": 28,
   "id": "114f1aba",
   "metadata": {},
   "outputs": [],
   "source": [
    "# top 5 breweries\n",
    "top_5_breweries = df['state'].value_counts()[:5]\n",
    "\n",
    "# lowest 5 breweries\n",
    "lowest_5_breweries = df['state'].value_counts()[-5:,]"
   ]
  },
  {
   "cell_type": "code",
   "execution_count": 29,
   "id": "85caa194",
   "metadata": {},
   "outputs": [
    {
     "data": {
      "text/plain": [
       "california    829\n",
       "washington    459\n",
       "colorado      390\n",
       "new york      370\n",
       "michigan      353\n",
       "Name: state, dtype: int64"
      ]
     },
     "execution_count": 29,
     "metadata": {},
     "output_type": "execute_result"
    }
   ],
   "source": [
    "top_5_breweries"
   ]
  },
  {
   "cell_type": "code",
   "execution_count": 30,
   "id": "b41078cf",
   "metadata": {},
   "outputs": [
    {
     "data": {
      "text/plain": [
       "delaware                26\n",
       "north dakota            26\n",
       "hawaii                  23\n",
       "mississippi             15\n",
       "district of columbia    14\n",
       "Name: state, dtype: int64"
      ]
     },
     "execution_count": 30,
     "metadata": {},
     "output_type": "execute_result"
    }
   ],
   "source": [
    "lowest_5_breweries"
   ]
  },
  {
   "cell_type": "code",
   "execution_count": 31,
   "id": "9ac2763c",
   "metadata": {},
   "outputs": [
    {
     "data": {
      "image/png": "[encoded data removed]",
      "text/plain": [
       "<Figure size 640x480 with 1 Axes>"
      ]
     },
     "metadata": {},
     "output_type": "display_data"
    }
   ],
   "source": [
    "sns.countplot(data=df, y = 'state', color = main_color, order = top_5_breweries.index)\n",
    "plt.xlabel('Count')\n",
    "plt.ylabel('State')\n",
    "plt.title('Top 5 States by Brewery Count')\n",
    "plt.show()"
   ]
  },
  {
   "cell_type": "code",
   "execution_count": 32,
   "id": "e2b4662e",
   "metadata": {
    "scrolled": false
   },
   "outputs": [
    {
     "data": {
      "image/png": "[encoded data removed]",
      "text/plain": [
       "<Figure size 640x480 with 1 Axes>"
      ]
     },
     "metadata": {},
     "output_type": "display_data"
    }
   ],
   "source": [
    "sns.countplot(data=df, y = 'state', color = main_color, order = lowest_5_breweries.index)\n",
    "plt.xlabel('Count')\n",
    "plt.ylabel('State')\n",
    "plt.title('Bottom 5 States by Brewery Count')\n",
    "plt.show()"
   ]
  },
  {
   "cell_type": "code",
   "execution_count": 46,
   "id": "7ea1c5bc",
   "metadata": {},
   "outputs": [],
   "source": [
    "us_state_to_abbrev = {\n",
    "    \"alabama\": \"AL\",\n",
    "    \"alaska\": \"AK\",\n",
    "    \"arizona\": \"AZ\",\n",
    "    \"arkansas\": \"AR\",\n",
    "    \"california\": \"CA\",\n",
    "    \"colorado\": \"CO\",\n",
    "    \"connecticut\": \"CT\",\n",
    "    \"delaware\": \"DE\",\n",
    "    \"florida\": \"FL\",\n",
    "    \"georgia\": \"GA\",\n",
    "    \"hawaii\": \"HI\",\n",
    "    \"idaho\": \"ID\",\n",
    "    \"illinois\": \"IL\",\n",
    "    \"indiana\": \"IN\",\n",
    "    \"iowa\": \"IA\",\n",
    "    \"kansas\": \"KS\",\n",
    "    \"kentucky\": \"KY\",\n",
    "    \"louisiana\": \"LA\",\n",
    "    \"maine\": \"ME\",\n",
    "    \"maryland\": \"MD\",\n",
    "    \"massachusetts\": \"MA\",\n",
    "    \"michigan\": \"MI\",\n",
    "    \"minnesota\": \"MN\",\n",
    "    \"mississippi\": \"MS\",\n",
    "    \"missouri\": \"MO\",\n",
    "    \"montana\": \"MT\",\n",
    "    \"nebraska\": \"NE\",\n",
    "    \"nevada\": \"NV\",\n",
    "    \"new hampshire\": \"NH\",\n",
    "    \"new jersey\": \"NJ\",\n",
    "    \"new mexico\": \"NM\",\n",
    "    \"new york\": \"NY\",\n",
    "    \"north carolina\": \"NC\",\n",
    "    \"north dakota\": \"ND\",\n",
    "    \"ohio\": \"OH\",\n",
    "    \"oklahoma\": \"OK\",\n",
    "    \"oregon\": \"OR\",\n",
    "    \"pennsylvania\": \"PA\",\n",
    "    \"rhode island\": \"RI\",\n",
    "    \"south carolina\": \"SC\",\n",
    "    \"south dakota\": \"SD\",\n",
    "    \"tennessee\": \"TN\",\n",
    "    \"texas\": \"TX\",\n",
    "    \"utah\": \"UT\",\n",
    "    \"vermont\": \"VT\",\n",
    "    \"virginia\": \"VA\",\n",
    "    \"washington\": \"WA\",\n",
    "    \"west virginia\": \"WV\",\n",
    "    \"wisconsin\": \"WI\",\n",
    "    \"wyoming\": \"WY\",\n",
    "    \"district of columbia\": \"DC\",\n",
    "}"
   ]
  },
  {
   "cell_type": "code",
   "execution_count": 48,
   "id": "f586d02b",
   "metadata": {},
   "outputs": [],
   "source": [
    "# breweries by state\n",
    "breweries_by_state = pd.DataFrame(df['state'].value_counts()).reset_index()\n",
    "breweries_by_state.columns = ['State', 'Count']\n",
    "breweries_by_state['State'] = breweries_by_state['State'].apply(lambda state: us_state_to_abbrev[state])"
   ]
  },
  {
   "cell_type": "code",
   "execution_count": 49,
   "id": "a6935785",
   "metadata": {},
   "outputs": [
    {
     "data": {
      "text/html": [
       "<div>\n",
       "<style scoped>\n",
       "    .dataframe tbody tr th:only-of-type {\n",
       "        vertical-align: middle;\n",
       "    }\n",
       "\n",
       "    .dataframe tbody tr th {\n",
       "        vertical-align: top;\n",
       "    }\n",
       "\n",
       "    .dataframe thead th {\n",
       "        text-align: right;\n",
       "    }\n",
       "</style>\n",
       "<table border=\"1\" class=\"dataframe\">\n",
       "  <thead>\n",
       "    <tr style=\"text-align: right;\">\n",
       "      <th></th>\n",
       "      <th>State</th>\n",
       "      <th>Count</th>\n",
       "    </tr>\n",
       "  </thead>\n",
       "  <tbody>\n",
       "    <tr>\n",
       "      <th>0</th>\n",
       "      <td>CA</td>\n",
       "      <td>829</td>\n",
       "    </tr>\n",
       "    <tr>\n",
       "      <th>1</th>\n",
       "      <td>WA</td>\n",
       "      <td>459</td>\n",
       "    </tr>\n",
       "    <tr>\n",
       "      <th>2</th>\n",
       "      <td>CO</td>\n",
       "      <td>390</td>\n",
       "    </tr>\n",
       "    <tr>\n",
       "      <th>3</th>\n",
       "      <td>NY</td>\n",
       "      <td>370</td>\n",
       "    </tr>\n",
       "    <tr>\n",
       "      <th>4</th>\n",
       "      <td>MI</td>\n",
       "      <td>353</td>\n",
       "    </tr>\n",
       "  </tbody>\n",
       "</table>\n",
       "</div>"
      ],
      "text/plain": [
       "  State  Count\n",
       "0    CA    829\n",
       "1    WA    459\n",
       "2    CO    390\n",
       "3    NY    370\n",
       "4    MI    353"
      ]
     },
     "execution_count": 49,
     "metadata": {},
     "output_type": "execute_result"
    }
   ],
   "source": [
    "breweries_by_state.head()"
   ]
  },
  {
   "cell_type": "code",
   "execution_count": 53,
   "id": "0e878bb1",
   "metadata": {},
   "outputs": [
    {
     "data": {
      "application/vnd.plotly.v1+json": {
       "config": {
        "plotlyServerURL": "https://plot.ly"
       },
       "data": [
        {
         "coloraxis": "coloraxis",
         "geo": "geo",
         "hovertemplate": "State=%{location}<br>Count=%{z}<extra></extra>",
         "locationmode": "USA-states",
         "locations": [
          "CA",
          "WA",
          "CO",
          "NY",
          "MI",
          "PA",
          "TX",
          "OR",
          "NC",
          "OH",
          "FL",
          "IL",
          "VA",
          "WI",
          "MN",
          "IN",
          "MA",
          "MO",
          "AZ",
          "ME",
          "NJ",
          "IA",
          "TN",
          "MD",
          "MT",
          "GA",
          "NM",
          "SC",
          "NH",
          "CT",
          "ID",
          "VT",
          "KY",
          "NE",
          "AK",
          "NV",
          "SD",
          "OK",
          "UT",
          "AR",
          "WY",
          "KS",
          "AL",
          "WV",
          "LA",
          "RI",
          "DE",
          "ND",
          "HI",
          "MS",
          "DC"
         ],
         "name": "",
         "type": "choropleth",
         "z": [
          829,
          459,
          390,
          370,
          353,
          307,
          294,
          285,
          274,
          274,
          273,
          227,
          222,
          212,
          167,
          142,
          141,
          138,
          110,
          107,
          101,
          91,
          88,
          88,
          81,
          81,
          78,
          71,
          69,
          69,
          66,
          55,
          55,
          53,
          48,
          46,
          44,
          41,
          41,
          41,
          41,
          39,
          37,
          37,
          35,
          31,
          26,
          26,
          23,
          15,
          14
         ]
        }
       ],
       "layout": {
        "coloraxis": {
         "colorbar": {
          "title": {
           "text": "Count"
          }
         },
         "colorscale": [
          [
           0,
           "#fde725"
          ],
          [
           0.1111111111111111,
           "#b5de2b"
          ],
          [
           0.2222222222222222,
           "#6ece58"
          ],
          [
           0.3333333333333333,
           "#35b779"
          ],
          [
           0.4444444444444444,
           "#1f9e89"
          ],
          [
           0.5555555555555556,
           "#26828e"
          ],
          [
           0.6666666666666666,
           "#31688e"
          ],
          [
           0.7777777777777778,
           "#3e4989"
          ],
          [
           0.8888888888888888,
           "#482878"
          ],
          [
           1,
           "#440154"
          ]
         ]
        },
        "geo": {
         "center": {},
         "domain": {
          "x": [
           0,
           1
          ],
          "y": [
           0,
           1
          ]
         },
         "scope": "usa"
        },
        "legend": {
         "tracegroupgap": 0
        },
        "template": {
         "data": {
          "bar": [
           {
            "error_x": {
             "color": "#2a3f5f"
            },
            "error_y": {
             "color": "#2a3f5f"
            },
            "marker": {
             "line": {
              "color": "#E5ECF6",
              "width": 0.5
             },
             "pattern": {
              "fillmode": "overlay",
              "size": 10,
              "solidity": 0.2
             }
            },
            "type": "bar"
           }
          ],
          "barpolar": [
           {
            "marker": {
             "line": {
              "color": "#E5ECF6",
              "width": 0.5
             },
             "pattern": {
              "fillmode": "overlay",
              "size": 10,
              "solidity": 0.2
             }
            },
            "type": "barpolar"
           }
          ],
          "carpet": [
           {
            "aaxis": {
             "endlinecolor": "#2a3f5f",
             "gridcolor": "white",
             "linecolor": "white",
             "minorgridcolor": "white",
             "startlinecolor": "#2a3f5f"
            },
            "baxis": {
             "endlinecolor": "#2a3f5f",
             "gridcolor": "white",
             "linecolor": "white",
             "minorgridcolor": "white",
             "startlinecolor": "#2a3f5f"
            },
            "type": "carpet"
           }
          ],
          "choropleth": [
           {
            "colorbar": {
             "outlinewidth": 0,
             "ticks": ""
            },
            "type": "choropleth"
           }
          ],
          "contour": [
           {
            "colorbar": {
             "outlinewidth": 0,
             "ticks": ""
            },
            "colorscale": [
             [
              0,
              "#0d0887"
             ],
             [
              0.1111111111111111,
              "#46039f"
             ],
             [
              0.2222222222222222,
              "#7201a8"
             ],
             [
              0.3333333333333333,
              "#9c179e"
             ],
             [
              0.4444444444444444,
              "#bd3786"
             ],
             [
              0.5555555555555556,
              "#d8576b"
             ],
             [
              0.6666666666666666,
              "#ed7953"
             ],
             [
              0.7777777777777778,
              "#fb9f3a"
             ],
             [
              0.8888888888888888,
              "#fdca26"
             ],
             [
              1,
              "#f0f921"
             ]
            ],
            "type": "contour"
           }
          ],
          "contourcarpet": [
           {
            "colorbar": {
             "outlinewidth": 0,
             "ticks": ""
            },
            "type": "contourcarpet"
           }
          ],
          "heatmap": [
           {
            "colorbar": {
             "outlinewidth": 0,
             "ticks": ""
            },
            "colorscale": [
             [
              0,
              "#0d0887"
             ],
             [
              0.1111111111111111,
              "#46039f"
             ],
             [
              0.2222222222222222,
              "#7201a8"
             ],
             [
              0.3333333333333333,
              "#9c179e"
             ],
             [
              0.4444444444444444,
              "#bd3786"
             ],
             [
              0.5555555555555556,
              "#d8576b"
             ],
             [
              0.6666666666666666,
              "#ed7953"
             ],
             [
              0.7777777777777778,
              "#fb9f3a"
             ],
             [
              0.8888888888888888,
              "#fdca26"
             ],
             [
              1,
              "#f0f921"
             ]
            ],
            "type": "heatmap"
           }
          ],
          "heatmapgl": [
           {
            "colorbar": {
             "outlinewidth": 0,
             "ticks": ""
            },
            "colorscale": [
             [
              0,
              "#0d0887"
             ],
             [
              0.1111111111111111,
              "#46039f"
             ],
             [
              0.2222222222222222,
              "#7201a8"
             ],
             [
              0.3333333333333333,
              "#9c179e"
             ],
             [
              0.4444444444444444,
              "#bd3786"
             ],
             [
              0.5555555555555556,
              "#d8576b"
             ],
             [
              0.6666666666666666,
              "#ed7953"
             ],
             [
              0.7777777777777778,
              "#fb9f3a"
             ],
             [
              0.8888888888888888,
              "#fdca26"
             ],
             [
              1,
              "#f0f921"
             ]
            ],
            "type": "heatmapgl"
           }
          ],
          "histogram": [
           {
            "marker": {
             "pattern": {
              "fillmode": "overlay",
              "size": 10,
              "solidity": 0.2
             }
            },
            "type": "histogram"
           }
          ],
          "histogram2d": [
           {
            "colorbar": {
             "outlinewidth": 0,
             "ticks": ""
            },
            "colorscale": [
             [
              0,
              "#0d0887"
             ],
             [
              0.1111111111111111,
              "#46039f"
             ],
             [
              0.2222222222222222,
              "#7201a8"
             ],
             [
              0.3333333333333333,
              "#9c179e"
             ],
             [
              0.4444444444444444,
              "#bd3786"
             ],
             [
              0.5555555555555556,
              "#d8576b"
             ],
             [
              0.6666666666666666,
              "#ed7953"
             ],
             [
              0.7777777777777778,
              "#fb9f3a"
             ],
             [
              0.8888888888888888,
              "#fdca26"
             ],
             [
              1,
              "#f0f921"
             ]
            ],
            "type": "histogram2d"
           }
          ],
          "histogram2dcontour": [
           {
            "colorbar": {
             "outlinewidth": 0,
             "ticks": ""
            },
            "colorscale": [
             [
              0,
              "#0d0887"
             ],
             [
              0.1111111111111111,
              "#46039f"
             ],
             [
              0.2222222222222222,
              "#7201a8"
             ],
             [
              0.3333333333333333,
              "#9c179e"
             ],
             [
              0.4444444444444444,
              "#bd3786"
             ],
             [
              0.5555555555555556,
              "#d8576b"
             ],
             [
              0.6666666666666666,
              "#ed7953"
             ],
             [
              0.7777777777777778,
              "#fb9f3a"
             ],
             [
              0.8888888888888888,
              "#fdca26"
             ],
             [
              1,
              "#f0f921"
             ]
            ],
            "type": "histogram2dcontour"
           }
          ],
          "mesh3d": [
           {
            "colorbar": {
             "outlinewidth": 0,
             "ticks": ""
            },
            "type": "mesh3d"
           }
          ],
          "parcoords": [
           {
            "line": {
             "colorbar": {
              "outlinewidth": 0,
              "ticks": ""
             }
            },
            "type": "parcoords"
           }
          ],
          "pie": [
           {
            "automargin": true,
            "type": "pie"
           }
          ],
          "scatter": [
           {
            "fillpattern": {
             "fillmode": "overlay",
             "size": 10,
             "solidity": 0.2
            },
            "type": "scatter"
           }
          ],
          "scatter3d": [
           {
            "line": {
             "colorbar": {
              "outlinewidth": 0,
              "ticks": ""
             }
            },
            "marker": {
             "colorbar": {
              "outlinewidth": 0,
              "ticks": ""
             }
            },
            "type": "scatter3d"
           }
          ],
          "scattercarpet": [
           {
            "marker": {
             "colorbar": {
              "outlinewidth": 0,
              "ticks": ""
             }
            },
            "type": "scattercarpet"
           }
          ],
          "scattergeo": [
           {
            "marker": {
             "colorbar": {
              "outlinewidth": 0,
              "ticks": ""
             }
            },
            "type": "scattergeo"
           }
          ],
          "scattergl": [
           {
            "marker": {
             "colorbar": {
              "outlinewidth": 0,
              "ticks": ""
             }
            },
            "type": "scattergl"
           }
          ],
          "scattermapbox": [
           {
            "marker": {
             "colorbar": {
              "outlinewidth": 0,
              "ticks": ""
             }
            },
            "type": "scattermapbox"
           }
          ],
          "scatterpolar": [
           {
            "marker": {
             "colorbar": {
              "outlinewidth": 0,
              "ticks": ""
             }
            },
            "type": "scatterpolar"
           }
          ],
          "scatterpolargl": [
           {
            "marker": {
             "colorbar": {
              "outlinewidth": 0,
              "ticks": ""
             }
            },
            "type": "scatterpolargl"
           }
          ],
          "scatterternary": [
           {
            "marker": {
             "colorbar": {
              "outlinewidth": 0,
              "ticks": ""
             }
            },
            "type": "scatterternary"
           }
          ],
          "surface": [
           {
            "colorbar": {
             "outlinewidth": 0,
             "ticks": ""
            },
            "colorscale": [
             [
              0,
              "#0d0887"
             ],
             [
              0.1111111111111111,
              "#46039f"
             ],
             [
              0.2222222222222222,
              "#7201a8"
             ],
             [
              0.3333333333333333,
              "#9c179e"
             ],
             [
              0.4444444444444444,
              "#bd3786"
             ],
             [
              0.5555555555555556,
              "#d8576b"
             ],
             [
              0.6666666666666666,
              "#ed7953"
             ],
             [
              0.7777777777777778,
              "#fb9f3a"
             ],
             [
              0.8888888888888888,
              "#fdca26"
             ],
             [
              1,
              "#f0f921"
             ]
            ],
            "type": "surface"
           }
          ],
          "table": [
           {
            "cells": {
             "fill": {
              "color": "#EBF0F8"
             },
             "line": {
              "color": "white"
             }
            },
            "header": {
             "fill": {
              "color": "#C8D4E3"
             },
             "line": {
              "color": "white"
             }
            },
            "type": "table"
           }
          ]
         },
         "layout": {
          "annotationdefaults": {
           "arrowcolor": "#2a3f5f",
           "arrowhead": 0,
           "arrowwidth": 1
          },
          "autotypenumbers": "strict",
          "coloraxis": {
           "colorbar": {
            "outlinewidth": 0,
            "ticks": ""
           }
          },
          "colorscale": {
           "diverging": [
            [
             0,
             "#8e0152"
            ],
            [
             0.1,
             "#c51b7d"
            ],
            [
             0.2,
             "#de77ae"
            ],
            [
             0.3,
             "#f1b6da"
            ],
            [
             0.4,
             "#fde0ef"
            ],
            [
             0.5,
             "#f7f7f7"
            ],
            [
             0.6,
             "#e6f5d0"
            ],
            [
             0.7,
             "#b8e186"
            ],
            [
             0.8,
             "#7fbc41"
            ],
            [
             0.9,
             "#4d9221"
            ],
            [
             1,
             "#276419"
            ]
           ],
           "sequential": [
            [
             0,
             "#0d0887"
            ],
            [
             0.1111111111111111,
             "#46039f"
            ],
            [
             0.2222222222222222,
             "#7201a8"
            ],
            [
             0.3333333333333333,
             "#9c179e"
            ],
            [
             0.4444444444444444,
             "#bd3786"
            ],
            [
             0.5555555555555556,
             "#d8576b"
            ],
            [
             0.6666666666666666,
             "#ed7953"
            ],
            [
             0.7777777777777778,
             "#fb9f3a"
            ],
            [
             0.8888888888888888,
             "#fdca26"
            ],
            [
             1,
             "#f0f921"
            ]
           ],
           "sequentialminus": [
            [
             0,
             "#0d0887"
            ],
            [
             0.1111111111111111,
             "#46039f"
            ],
            [
             0.2222222222222222,
             "#7201a8"
            ],
            [
             0.3333333333333333,
             "#9c179e"
            ],
            [
             0.4444444444444444,
             "#bd3786"
            ],
            [
             0.5555555555555556,
             "#d8576b"
            ],
            [
             0.6666666666666666,
             "#ed7953"
            ],
            [
             0.7777777777777778,
             "#fb9f3a"
            ],
            [
             0.8888888888888888,
             "#fdca26"
            ],
            [
             1,
             "#f0f921"
            ]
           ]
          },
          "colorway": [
           "#636efa",
           "#EF553B",
           "#00cc96",
           "#ab63fa",
           "#FFA15A",
           "#19d3f3",
           "#FF6692",
           "#B6E880",
           "#FF97FF",
           "#FECB52"
          ],
          "font": {
           "color": "#2a3f5f"
          },
          "geo": {
           "bgcolor": "white",
           "lakecolor": "white",
           "landcolor": "#E5ECF6",
           "showlakes": true,
           "showland": true,
           "subunitcolor": "white"
          },
          "hoverlabel": {
           "align": "left"
          },
          "hovermode": "closest",
          "mapbox": {
           "style": "light"
          },
          "paper_bgcolor": "white",
          "plot_bgcolor": "#E5ECF6",
          "polar": {
           "angularaxis": {
            "gridcolor": "white",
            "linecolor": "white",
            "ticks": ""
           },
           "bgcolor": "#E5ECF6",
           "radialaxis": {
            "gridcolor": "white",
            "linecolor": "white",
            "ticks": ""
           }
          },
          "scene": {
           "xaxis": {
            "backgroundcolor": "#E5ECF6",
            "gridcolor": "white",
            "gridwidth": 2,
            "linecolor": "white",
            "showbackground": true,
            "ticks": "",
            "zerolinecolor": "white"
           },
           "yaxis": {
            "backgroundcolor": "#E5ECF6",
            "gridcolor": "white",
            "gridwidth": 2,
            "linecolor": "white",
            "showbackground": true,
            "ticks": "",
            "zerolinecolor": "white"
           },
           "zaxis": {
            "backgroundcolor": "#E5ECF6",
            "gridcolor": "white",
            "gridwidth": 2,
            "linecolor": "white",
            "showbackground": true,
            "ticks": "",
            "zerolinecolor": "white"
           }
          },
          "shapedefaults": {
           "line": {
            "color": "#2a3f5f"
           }
          },
          "ternary": {
           "aaxis": {
            "gridcolor": "white",
            "linecolor": "white",
            "ticks": ""
           },
           "baxis": {
            "gridcolor": "white",
            "linecolor": "white",
            "ticks": ""
           },
           "bgcolor": "#E5ECF6",
           "caxis": {
            "gridcolor": "white",
            "linecolor": "white",
            "ticks": ""
           }
          },
          "title": {
           "x": 0.05
          },
          "xaxis": {
           "automargin": true,
           "gridcolor": "white",
           "linecolor": "white",
           "ticks": "",
           "title": {
            "standoff": 15
           },
           "zerolinecolor": "white",
           "zerolinewidth": 2
          },
          "yaxis": {
           "automargin": true,
           "gridcolor": "white",
           "linecolor": "white",
           "ticks": "",
           "title": {
            "standoff": 15
           },
           "zerolinecolor": "white",
           "zerolinewidth": 2
          }
         }
        },
        "title": {
         "text": "Breweries by State"
        }
       }
      },
      "text/html": [
       "<div>                            <div id=\"797b1d5a-f6e3-49ba-89ae-65e2617180e3\" class=\"plotly-graph-div\" style=\"height:525px; width:100%;\"></div>            <script type=\"text/javascript\">                require([\"plotly\"], function(Plotly) {                    window.PLOTLYENV=window.PLOTLYENV || {};                                    if (document.getElementById(\"797b1d5a-f6e3-49ba-89ae-65e2617180e3\")) {                    Plotly.newPlot(                        \"797b1d5a-f6e3-49ba-89ae-65e2617180e3\",                        [{\"coloraxis\":\"coloraxis\",\"geo\":\"geo\",\"hovertemplate\":\"State=%{location}<br>Count=%{z}<extra></extra>\",\"locationmode\":\"USA-states\",\"locations\":[\"CA\",\"WA\",\"CO\",\"NY\",\"MI\",\"PA\",\"TX\",\"OR\",\"NC\",\"OH\",\"FL\",\"IL\",\"VA\",\"WI\",\"MN\",\"IN\",\"MA\",\"MO\",\"AZ\",\"ME\",\"NJ\",\"IA\",\"TN\",\"MD\",\"MT\",\"GA\",\"NM\",\"SC\",\"NH\",\"CT\",\"ID\",\"VT\",\"KY\",\"NE\",\"AK\",\"NV\",\"SD\",\"OK\",\"UT\",\"AR\",\"WY\",\"KS\",\"AL\",\"WV\",\"LA\",\"RI\",\"DE\",\"ND\",\"HI\",\"MS\",\"DC\"],\"name\":\"\",\"z\":[829,459,390,370,353,307,294,285,274,274,273,227,222,212,167,142,141,138,110,107,101,91,88,88,81,81,78,71,69,69,66,55,55,53,48,46,44,41,41,41,41,39,37,37,35,31,26,26,23,15,14],\"type\":\"choropleth\"}],                        {\"template\":{\"data\":{\"histogram2dcontour\":[{\"type\":\"histogram2dcontour\",\"colorbar\":{\"outlinewidth\":0,\"ticks\":\"\"},\"colorscale\":[[0.0,\"#0d0887\"],[0.1111111111111111,\"#46039f\"],[0.2222222222222222,\"#7201a8\"],[0.3333333333333333,\"#9c179e\"],[0.4444444444444444,\"#bd3786\"],[0.5555555555555556,\"#d8576b\"],[0.6666666666666666,\"#ed7953\"],[0.7777777777777778,\"#fb9f3a\"],[0.8888888888888888,\"#fdca26\"],[1.0,\"#f0f921\"]]}],\"choropleth\":[{\"type\":\"choropleth\",\"colorbar\":{\"outlinewidth\":0,\"ticks\":\"\"}}],\"histogram2d\":[{\"type\":\"histogram2d\",\"colorbar\":{\"outlinewidth\":0,\"ticks\":\"\"},\"colorscale\":[[0.0,\"#0d0887\"],[0.1111111111111111,\"#46039f\"],[0.2222222222222222,\"#7201a8\"],[0.3333333333333333,\"#9c179e\"],[0.4444444444444444,\"#bd3786\"],[0.5555555555555556,\"#d8576b\"],[0.6666666666666666,\"#ed7953\"],[0.7777777777777778,\"#fb9f3a\"],[0.8888888888888888,\"#fdca26\"],[1.0,\"#f0f921\"]]}],\"heatmap\":[{\"type\":\"heatmap\",\"colorbar\":{\"outlinewidth\":0,\"ticks\":\"\"},\"colorscale\":[[0.0,\"#0d0887\"],[0.1111111111111111,\"#46039f\"],[0.2222222222222222,\"#7201a8\"],[0.3333333333333333,\"#9c179e\"],[0.4444444444444444,\"#bd3786\"],[0.5555555555555556,\"#d8576b\"],[0.6666666666666666,\"#ed7953\"],[0.7777777777777778,\"#fb9f3a\"],[0.8888888888888888,\"#fdca26\"],[1.0,\"#f0f921\"]]}],\"heatmapgl\":[{\"type\":\"heatmapgl\",\"colorbar\":{\"outlinewidth\":0,\"ticks\":\"\"},\"colorscale\":[[0.0,\"#0d0887\"],[0.1111111111111111,\"#46039f\"],[0.2222222222222222,\"#7201a8\"],[0.3333333333333333,\"#9c179e\"],[0.4444444444444444,\"#bd3786\"],[0.5555555555555556,\"#d8576b\"],[0.6666666666666666,\"#ed7953\"],[0.7777777777777778,\"#fb9f3a\"],[0.8888888888888888,\"#fdca26\"],[1.0,\"#f0f921\"]]}],\"contourcarpet\":[{\"type\":\"contourcarpet\",\"colorbar\":{\"outlinewidth\":0,\"ticks\":\"\"}}],\"contour\":[{\"type\":\"contour\",\"colorbar\":{\"outlinewidth\":0,\"ticks\":\"\"},\"colorscale\":[[0.0,\"#0d0887\"],[0.1111111111111111,\"#46039f\"],[0.2222222222222222,\"#7201a8\"],[0.3333333333333333,\"#9c179e\"],[0.4444444444444444,\"#bd3786\"],[0.5555555555555556,\"#d8576b\"],[0.6666666666666666,\"#ed7953\"],[0.7777777777777778,\"#fb9f3a\"],[0.8888888888888888,\"#fdca26\"],[1.0,\"#f0f921\"]]}],\"surface\":[{\"type\":\"surface\",\"colorbar\":{\"outlinewidth\":0,\"ticks\":\"\"},\"colorscale\":[[0.0,\"#0d0887\"],[0.1111111111111111,\"#46039f\"],[0.2222222222222222,\"#7201a8\"],[0.3333333333333333,\"#9c179e\"],[0.4444444444444444,\"#bd3786\"],[0.5555555555555556,\"#d8576b\"],[0.6666666666666666,\"#ed7953\"],[0.7777777777777778,\"#fb9f3a\"],[0.8888888888888888,\"#fdca26\"],[1.0,\"#f0f921\"]]}],\"mesh3d\":[{\"type\":\"mesh3d\",\"colorbar\":{\"outlinewidth\":0,\"ticks\":\"\"}}],\"scatter\":[{\"fillpattern\":{\"fillmode\":\"overlay\",\"size\":10,\"solidity\":0.2},\"type\":\"scatter\"}],\"parcoords\":[{\"type\":\"parcoords\",\"line\":{\"colorbar\":{\"outlinewidth\":0,\"ticks\":\"\"}}}],\"scatterpolargl\":[{\"type\":\"scatterpolargl\",\"marker\":{\"colorbar\":{\"outlinewidth\":0,\"ticks\":\"\"}}}],\"bar\":[{\"error_x\":{\"color\":\"#2a3f5f\"},\"error_y\":{\"color\":\"#2a3f5f\"},\"marker\":{\"line\":{\"color\":\"#E5ECF6\",\"width\":0.5},\"pattern\":{\"fillmode\":\"overlay\",\"size\":10,\"solidity\":0.2}},\"type\":\"bar\"}],\"scattergeo\":[{\"type\":\"scattergeo\",\"marker\":{\"colorbar\":{\"outlinewidth\":0,\"ticks\":\"\"}}}],\"scatterpolar\":[{\"type\":\"scatterpolar\",\"marker\":{\"colorbar\":{\"outlinewidth\":0,\"ticks\":\"\"}}}],\"histogram\":[{\"marker\":{\"pattern\":{\"fillmode\":\"overlay\",\"size\":10,\"solidity\":0.2}},\"type\":\"histogram\"}],\"scattergl\":[{\"type\":\"scattergl\",\"marker\":{\"colorbar\":{\"outlinewidth\":0,\"ticks\":\"\"}}}],\"scatter3d\":[{\"type\":\"scatter3d\",\"line\":{\"colorbar\":{\"outlinewidth\":0,\"ticks\":\"\"}},\"marker\":{\"colorbar\":{\"outlinewidth\":0,\"ticks\":\"\"}}}],\"scattermapbox\":[{\"type\":\"scattermapbox\",\"marker\":{\"colorbar\":{\"outlinewidth\":0,\"ticks\":\"\"}}}],\"scatterternary\":[{\"type\":\"scatterternary\",\"marker\":{\"colorbar\":{\"outlinewidth\":0,\"ticks\":\"\"}}}],\"scattercarpet\":[{\"type\":\"scattercarpet\",\"marker\":{\"colorbar\":{\"outlinewidth\":0,\"ticks\":\"\"}}}],\"carpet\":[{\"aaxis\":{\"endlinecolor\":\"#2a3f5f\",\"gridcolor\":\"white\",\"linecolor\":\"white\",\"minorgridcolor\":\"white\",\"startlinecolor\":\"#2a3f5f\"},\"baxis\":{\"endlinecolor\":\"#2a3f5f\",\"gridcolor\":\"white\",\"linecolor\":\"white\",\"minorgridcolor\":\"white\",\"startlinecolor\":\"#2a3f5f\"},\"type\":\"carpet\"}],\"table\":[{\"cells\":{\"fill\":{\"color\":\"#EBF0F8\"},\"line\":{\"color\":\"white\"}},\"header\":{\"fill\":{\"color\":\"#C8D4E3\"},\"line\":{\"color\":\"white\"}},\"type\":\"table\"}],\"barpolar\":[{\"marker\":{\"line\":{\"color\":\"#E5ECF6\",\"width\":0.5},\"pattern\":{\"fillmode\":\"overlay\",\"size\":10,\"solidity\":0.2}},\"type\":\"barpolar\"}],\"pie\":[{\"automargin\":true,\"type\":\"pie\"}]},\"layout\":{\"autotypenumbers\":\"strict\",\"colorway\":[\"#636efa\",\"#EF553B\",\"#00cc96\",\"#ab63fa\",\"#FFA15A\",\"#19d3f3\",\"#FF6692\",\"#B6E880\",\"#FF97FF\",\"#FECB52\"],\"font\":{\"color\":\"#2a3f5f\"},\"hovermode\":\"closest\",\"hoverlabel\":{\"align\":\"left\"},\"paper_bgcolor\":\"white\",\"plot_bgcolor\":\"#E5ECF6\",\"polar\":{\"bgcolor\":\"#E5ECF6\",\"angularaxis\":{\"gridcolor\":\"white\",\"linecolor\":\"white\",\"ticks\":\"\"},\"radialaxis\":{\"gridcolor\":\"white\",\"linecolor\":\"white\",\"ticks\":\"\"}},\"ternary\":{\"bgcolor\":\"#E5ECF6\",\"aaxis\":{\"gridcolor\":\"white\",\"linecolor\":\"white\",\"ticks\":\"\"},\"baxis\":{\"gridcolor\":\"white\",\"linecolor\":\"white\",\"ticks\":\"\"},\"caxis\":{\"gridcolor\":\"white\",\"linecolor\":\"white\",\"ticks\":\"\"}},\"coloraxis\":{\"colorbar\":{\"outlinewidth\":0,\"ticks\":\"\"}},\"colorscale\":{\"sequential\":[[0.0,\"#0d0887\"],[0.1111111111111111,\"#46039f\"],[0.2222222222222222,\"#7201a8\"],[0.3333333333333333,\"#9c179e\"],[0.4444444444444444,\"#bd3786\"],[0.5555555555555556,\"#d8576b\"],[0.6666666666666666,\"#ed7953\"],[0.7777777777777778,\"#fb9f3a\"],[0.8888888888888888,\"#fdca26\"],[1.0,\"#f0f921\"]],\"sequentialminus\":[[0.0,\"#0d0887\"],[0.1111111111111111,\"#46039f\"],[0.2222222222222222,\"#7201a8\"],[0.3333333333333333,\"#9c179e\"],[0.4444444444444444,\"#bd3786\"],[0.5555555555555556,\"#d8576b\"],[0.6666666666666666,\"#ed7953\"],[0.7777777777777778,\"#fb9f3a\"],[0.8888888888888888,\"#fdca26\"],[1.0,\"#f0f921\"]],\"diverging\":[[0,\"#8e0152\"],[0.1,\"#c51b7d\"],[0.2,\"#de77ae\"],[0.3,\"#f1b6da\"],[0.4,\"#fde0ef\"],[0.5,\"#f7f7f7\"],[0.6,\"#e6f5d0\"],[0.7,\"#b8e186\"],[0.8,\"#7fbc41\"],[0.9,\"#4d9221\"],[1,\"#276419\"]]},\"xaxis\":{\"gridcolor\":\"white\",\"linecolor\":\"white\",\"ticks\":\"\",\"title\":{\"standoff\":15},\"zerolinecolor\":\"white\",\"automargin\":true,\"zerolinewidth\":2},\"yaxis\":{\"gridcolor\":\"white\",\"linecolor\":\"white\",\"ticks\":\"\",\"title\":{\"standoff\":15},\"zerolinecolor\":\"white\",\"automargin\":true,\"zerolinewidth\":2},\"scene\":{\"xaxis\":{\"backgroundcolor\":\"#E5ECF6\",\"gridcolor\":\"white\",\"linecolor\":\"white\",\"showbackground\":true,\"ticks\":\"\",\"zerolinecolor\":\"white\",\"gridwidth\":2},\"yaxis\":{\"backgroundcolor\":\"#E5ECF6\",\"gridcolor\":\"white\",\"linecolor\":\"white\",\"showbackground\":true,\"ticks\":\"\",\"zerolinecolor\":\"white\",\"gridwidth\":2},\"zaxis\":{\"backgroundcolor\":\"#E5ECF6\",\"gridcolor\":\"white\",\"linecolor\":\"white\",\"showbackground\":true,\"ticks\":\"\",\"zerolinecolor\":\"white\",\"gridwidth\":2}},\"shapedefaults\":{\"line\":{\"color\":\"#2a3f5f\"}},\"annotationdefaults\":{\"arrowcolor\":\"#2a3f5f\",\"arrowhead\":0,\"arrowwidth\":1},\"geo\":{\"bgcolor\":\"white\",\"landcolor\":\"#E5ECF6\",\"subunitcolor\":\"white\",\"showland\":true,\"showlakes\":true,\"lakecolor\":\"white\"},\"title\":{\"x\":0.05},\"mapbox\":{\"style\":\"light\"}}},\"geo\":{\"domain\":{\"x\":[0.0,1.0],\"y\":[0.0,1.0]},\"center\":{},\"scope\":\"usa\"},\"coloraxis\":{\"colorbar\":{\"title\":{\"text\":\"Count\"}},\"colorscale\":[[0.0,\"#fde725\"],[0.1111111111111111,\"#b5de2b\"],[0.2222222222222222,\"#6ece58\"],[0.3333333333333333,\"#35b779\"],[0.4444444444444444,\"#1f9e89\"],[0.5555555555555556,\"#26828e\"],[0.6666666666666666,\"#31688e\"],[0.7777777777777778,\"#3e4989\"],[0.8888888888888888,\"#482878\"],[1.0,\"#440154\"]]},\"legend\":{\"tracegroupgap\":0},\"title\":{\"text\":\"Breweries by State\"}},                        {\"responsive\": true}                    ).then(function(){\n",
       "                            \n",
       "var gd = document.getElementById('797b1d5a-f6e3-49ba-89ae-65e2617180e3');\n",
       "var x = new MutationObserver(function (mutations, observer) {{\n",
       "        var display = window.getComputedStyle(gd).display;\n",
       "        if (!display || display === 'none') {{\n",
       "            console.log([gd, 'removed!']);\n",
       "            Plotly.purge(gd);\n",
       "            observer.disconnect();\n",
       "        }}\n",
       "}});\n",
       "\n",
       "// Listen for the removal of the full notebook cells\n",
       "var notebookContainer = gd.closest('#notebook-container');\n",
       "if (notebookContainer) {{\n",
       "    x.observe(notebookContainer, {childList: true});\n",
       "}}\n",
       "\n",
       "// Listen for the clearing of the current output cell\n",
       "var outputEl = gd.closest('.output');\n",
       "if (outputEl) {{\n",
       "    x.observe(outputEl, {childList: true});\n",
       "}}\n",
       "\n",
       "                        })                };                });            </script>        </div>"
      ]
     },
     "metadata": {},
     "output_type": "display_data"
    }
   ],
   "source": [
    "# geographical representations\n",
    "fig = px.choropleth(breweries_by_state,\n",
    "                    locationmode = 'USA-states',\n",
    "                    locations = 'State',\n",
    "                    scope = 'usa',\n",
    "                    color = 'Count',\n",
    "                    color_continuous_scale = 'Viridis_r',\n",
    "                    title = 'Breweries by State')\n",
    "fig.show()"
   ]
  },
  {
   "cell_type": "code",
   "execution_count": 54,
   "id": "1754bd59",
   "metadata": {},
   "outputs": [],
   "source": [
    "# save this exact dataframe so we can create an interactive map within the quarto website\n",
    "breweries_by_state.to_csv('../data/brewery-count-by-state.csv', index = False)"
   ]
  }
 ],
 "metadata": {
  "kernelspec": {
   "display_name": "Python 3 (ipykernel)",
   "language": "python",
   "name": "python3"
  },
  "language_info": {
   "codemirror_mode": {
    "name": "ipython",
    "version": 3
   },
   "file_extension": ".py",
   "mimetype": "text/x-python",
   "name": "python",
   "nbconvert_exporter": "python",
   "pygments_lexer": "ipython3",
   "version": "3.9.18"
  }
 },
 "nbformat": 4,
 "nbformat_minor": 5
}
